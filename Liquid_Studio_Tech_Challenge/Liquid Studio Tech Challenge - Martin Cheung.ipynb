{
 "cells": [
  {
   "cell_type": "markdown",
   "metadata": {},
   "source": [
    "# Liquid Studio Technical Challenge\n",
    "\n",
    "### Martin Cheung\n",
    "\n",
    "The following notebook documents the code that was used for the liquid studio technical challenge. It consists of a dataset from the Brazilian aviation agency, containing the history of all flights in 2017. With regard to this dataset, liquid studio have posed a number of questions to be answered."
   ]
  },
  {
   "cell_type": "code",
   "execution_count": 1,
   "metadata": {},
   "outputs": [],
   "source": [
    "import pandas as pd\n",
    "import matplotlib.pyplot as plt\n",
    "import numpy as np\n",
    "import seaborn as sns\n",
    "from sklearn.model_selection import train_test_split\n",
    "from sklearn.ensemble import RandomForestClassifier\n",
    "from sklearn.linear_model import LogisticRegression\n",
    "from sklearn import metrics\n",
    "# Use seaborn style defaults and set the default figure size\n",
    "sns.set(rc={'figure.figsize':(11, 4)})"
   ]
  },
  {
   "cell_type": "markdown",
   "metadata": {},
   "source": [
    "### Read in Flight Data"
   ]
  },
  {
   "cell_type": "code",
   "execution_count": 2,
   "metadata": {
    "scrolled": true
   },
   "outputs": [
    {
     "name": "stderr",
     "output_type": "stream",
     "text": [
      "C:\\Users\\martin.cheung\\anaconda3\\lib\\site-packages\\IPython\\core\\interactiveshell.py:3057: DtypeWarning: Columns (9,11,26) have mixed types. Specify dtype option on import or set low_memory=False.\n",
      "  interactivity=interactivity, compiler=compiler, result=result)\n"
     ]
    }
   ],
   "source": [
    "flight_data = pd.read_csv(\"2017_flights.csv\", parse_dates=['ArrivalActual','ArrivalScheduled','DepartureActual','DepartureScheduled'])"
   ]
  },
  {
   "cell_type": "code",
   "execution_count": 3,
   "metadata": {},
   "outputs": [
    {
     "data": {
      "text/html": [
       "<div>\n",
       "<style scoped>\n",
       "    .dataframe tbody tr th:only-of-type {\n",
       "        vertical-align: middle;\n",
       "    }\n",
       "\n",
       "    .dataframe tbody tr th {\n",
       "        vertical-align: top;\n",
       "    }\n",
       "\n",
       "    .dataframe thead th {\n",
       "        text-align: right;\n",
       "    }\n",
       "</style>\n",
       "<table border=\"1\" class=\"dataframe\">\n",
       "  <thead>\n",
       "    <tr style=\"text-align: right;\">\n",
       "      <th></th>\n",
       "      <th>Airline</th>\n",
       "      <th>ArrivalActual</th>\n",
       "      <th>ArrivalAirport</th>\n",
       "      <th>ArrivalScheduled</th>\n",
       "      <th>DepartureActual</th>\n",
       "      <th>DepartureAirport</th>\n",
       "      <th>DepartureScheduled</th>\n",
       "      <th>FlightNo</th>\n",
       "      <th>FlightStatus</th>\n",
       "      <th>IDCode</th>\n",
       "      <th>...</th>\n",
       "      <th>ArrivalAirportName</th>\n",
       "      <th>ArrivalCity</th>\n",
       "      <th>ArrivalState</th>\n",
       "      <th>ArrivalCountry</th>\n",
       "      <th>ArrivalContinent</th>\n",
       "      <th>AirlineName</th>\n",
       "      <th>AirlineOrigin</th>\n",
       "      <th>FlightType</th>\n",
       "      <th>RouteType</th>\n",
       "      <th>StatusReasonDescription</th>\n",
       "    </tr>\n",
       "  </thead>\n",
       "  <tbody>\n",
       "    <tr>\n",
       "      <th>0</th>\n",
       "      <td>AAL</td>\n",
       "      <td>2017-02-01 09:00:00</td>\n",
       "      <td>SBBR</td>\n",
       "      <td>2017-02-01 09:00:00</td>\n",
       "      <td>2017-02-01 01:20:00</td>\n",
       "      <td>KMIA</td>\n",
       "      <td>2017-02-01 01:20:00</td>\n",
       "      <td>213</td>\n",
       "      <td>REALIZADO</td>\n",
       "      <td>0</td>\n",
       "      <td>...</td>\n",
       "      <td>PRESIDENTE JUSCELINO KUBITSCHEK</td>\n",
       "      <td>BRASÍLIA</td>\n",
       "      <td>DF</td>\n",
       "      <td>BRASIL</td>\n",
       "      <td>AMERICA DO SUL</td>\n",
       "      <td>AMERICAN AIRLINES INC</td>\n",
       "      <td>ESTRANGEIRA</td>\n",
       "      <td>Vôo Regular</td>\n",
       "      <td>Internacional</td>\n",
       "      <td>NaN</td>\n",
       "    </tr>\n",
       "    <tr>\n",
       "      <th>1</th>\n",
       "      <td>AAL</td>\n",
       "      <td>2017-01-24 09:00:00</td>\n",
       "      <td>SBBR</td>\n",
       "      <td>2017-01-24 09:00:00</td>\n",
       "      <td>2017-01-24 01:20:00</td>\n",
       "      <td>KMIA</td>\n",
       "      <td>2017-01-24 01:20:00</td>\n",
       "      <td>213</td>\n",
       "      <td>REALIZADO</td>\n",
       "      <td>0</td>\n",
       "      <td>...</td>\n",
       "      <td>PRESIDENTE JUSCELINO KUBITSCHEK</td>\n",
       "      <td>BRASÍLIA</td>\n",
       "      <td>DF</td>\n",
       "      <td>BRASIL</td>\n",
       "      <td>AMERICA DO SUL</td>\n",
       "      <td>AMERICAN AIRLINES INC</td>\n",
       "      <td>ESTRANGEIRA</td>\n",
       "      <td>Vôo Regular</td>\n",
       "      <td>Internacional</td>\n",
       "      <td>NaN</td>\n",
       "    </tr>\n",
       "    <tr>\n",
       "      <th>2</th>\n",
       "      <td>AAL</td>\n",
       "      <td>2017-01-29 09:00:00</td>\n",
       "      <td>SBBR</td>\n",
       "      <td>2017-01-29 09:00:00</td>\n",
       "      <td>2017-01-29 01:20:00</td>\n",
       "      <td>KMIA</td>\n",
       "      <td>2017-01-29 01:20:00</td>\n",
       "      <td>213</td>\n",
       "      <td>REALIZADO</td>\n",
       "      <td>0</td>\n",
       "      <td>...</td>\n",
       "      <td>PRESIDENTE JUSCELINO KUBITSCHEK</td>\n",
       "      <td>BRASÍLIA</td>\n",
       "      <td>DF</td>\n",
       "      <td>BRASIL</td>\n",
       "      <td>AMERICA DO SUL</td>\n",
       "      <td>AMERICAN AIRLINES INC</td>\n",
       "      <td>ESTRANGEIRA</td>\n",
       "      <td>Vôo Regular</td>\n",
       "      <td>Internacional</td>\n",
       "      <td>NaN</td>\n",
       "    </tr>\n",
       "    <tr>\n",
       "      <th>3</th>\n",
       "      <td>AAL</td>\n",
       "      <td>2017-01-23 09:00:00</td>\n",
       "      <td>SBBR</td>\n",
       "      <td>2017-01-23 09:00:00</td>\n",
       "      <td>2017-01-23 01:20:00</td>\n",
       "      <td>KMIA</td>\n",
       "      <td>2017-01-23 01:20:00</td>\n",
       "      <td>213</td>\n",
       "      <td>REALIZADO</td>\n",
       "      <td>0</td>\n",
       "      <td>...</td>\n",
       "      <td>PRESIDENTE JUSCELINO KUBITSCHEK</td>\n",
       "      <td>BRASÍLIA</td>\n",
       "      <td>DF</td>\n",
       "      <td>BRASIL</td>\n",
       "      <td>AMERICA DO SUL</td>\n",
       "      <td>AMERICAN AIRLINES INC</td>\n",
       "      <td>ESTRANGEIRA</td>\n",
       "      <td>Vôo Regular</td>\n",
       "      <td>Internacional</td>\n",
       "      <td>NaN</td>\n",
       "    </tr>\n",
       "    <tr>\n",
       "      <th>4</th>\n",
       "      <td>AAL</td>\n",
       "      <td>2017-01-25 09:00:00</td>\n",
       "      <td>SBBR</td>\n",
       "      <td>2017-01-25 09:00:00</td>\n",
       "      <td>2017-01-25 01:20:00</td>\n",
       "      <td>KMIA</td>\n",
       "      <td>2017-01-25 01:20:00</td>\n",
       "      <td>213</td>\n",
       "      <td>REALIZADO</td>\n",
       "      <td>0</td>\n",
       "      <td>...</td>\n",
       "      <td>PRESIDENTE JUSCELINO KUBITSCHEK</td>\n",
       "      <td>BRASÍLIA</td>\n",
       "      <td>DF</td>\n",
       "      <td>BRASIL</td>\n",
       "      <td>AMERICA DO SUL</td>\n",
       "      <td>AMERICAN AIRLINES INC</td>\n",
       "      <td>ESTRANGEIRA</td>\n",
       "      <td>Vôo Regular</td>\n",
       "      <td>Internacional</td>\n",
       "      <td>NaN</td>\n",
       "    </tr>\n",
       "  </tbody>\n",
       "</table>\n",
       "<p>5 rows × 27 columns</p>\n",
       "</div>"
      ],
      "text/plain": [
       "  Airline       ArrivalActual ArrivalAirport    ArrivalScheduled  \\\n",
       "0     AAL 2017-02-01 09:00:00           SBBR 2017-02-01 09:00:00   \n",
       "1     AAL 2017-01-24 09:00:00           SBBR 2017-01-24 09:00:00   \n",
       "2     AAL 2017-01-29 09:00:00           SBBR 2017-01-29 09:00:00   \n",
       "3     AAL 2017-01-23 09:00:00           SBBR 2017-01-23 09:00:00   \n",
       "4     AAL 2017-01-25 09:00:00           SBBR 2017-01-25 09:00:00   \n",
       "\n",
       "      DepartureActual DepartureAirport  DepartureScheduled  FlightNo  \\\n",
       "0 2017-02-01 01:20:00             KMIA 2017-02-01 01:20:00       213   \n",
       "1 2017-01-24 01:20:00             KMIA 2017-01-24 01:20:00       213   \n",
       "2 2017-01-29 01:20:00             KMIA 2017-01-29 01:20:00       213   \n",
       "3 2017-01-23 01:20:00             KMIA 2017-01-23 01:20:00       213   \n",
       "4 2017-01-25 01:20:00             KMIA 2017-01-25 01:20:00       213   \n",
       "\n",
       "  FlightStatus IDCode  ...               ArrivalAirportName ArrivalCity  \\\n",
       "0    REALIZADO      0  ...  PRESIDENTE JUSCELINO KUBITSCHEK    BRASÍLIA   \n",
       "1    REALIZADO      0  ...  PRESIDENTE JUSCELINO KUBITSCHEK    BRASÍLIA   \n",
       "2    REALIZADO      0  ...  PRESIDENTE JUSCELINO KUBITSCHEK    BRASÍLIA   \n",
       "3    REALIZADO      0  ...  PRESIDENTE JUSCELINO KUBITSCHEK    BRASÍLIA   \n",
       "4    REALIZADO      0  ...  PRESIDENTE JUSCELINO KUBITSCHEK    BRASÍLIA   \n",
       "\n",
       "  ArrivalState ArrivalCountry ArrivalContinent            AirlineName  \\\n",
       "0           DF         BRASIL   AMERICA DO SUL  AMERICAN AIRLINES INC   \n",
       "1           DF         BRASIL   AMERICA DO SUL  AMERICAN AIRLINES INC   \n",
       "2           DF         BRASIL   AMERICA DO SUL  AMERICAN AIRLINES INC   \n",
       "3           DF         BRASIL   AMERICA DO SUL  AMERICAN AIRLINES INC   \n",
       "4           DF         BRASIL   AMERICA DO SUL  AMERICAN AIRLINES INC   \n",
       "\n",
       "  AirlineOrigin   FlightType      RouteType StatusReasonDescription  \n",
       "0   ESTRANGEIRA  Vôo Regular  Internacional                     NaN  \n",
       "1   ESTRANGEIRA  Vôo Regular  Internacional                     NaN  \n",
       "2   ESTRANGEIRA  Vôo Regular  Internacional                     NaN  \n",
       "3   ESTRANGEIRA  Vôo Regular  Internacional                     NaN  \n",
       "4   ESTRANGEIRA  Vôo Regular  Internacional                     NaN  \n",
       "\n",
       "[5 rows x 27 columns]"
      ]
     },
     "execution_count": 3,
     "metadata": {},
     "output_type": "execute_result"
    }
   ],
   "source": [
    "flight_data.head()"
   ]
  },
  {
   "cell_type": "code",
   "execution_count": 4,
   "metadata": {},
   "outputs": [
    {
     "data": {
      "text/plain": [
       "(1105484, 27)"
      ]
     },
     "execution_count": 4,
     "metadata": {},
     "output_type": "execute_result"
    }
   ],
   "source": [
    "flight_data.drop_duplicates().shape"
   ]
  },
  {
   "cell_type": "code",
   "execution_count": 5,
   "metadata": {},
   "outputs": [
    {
     "data": {
      "text/plain": [
       "Airline                            object\n",
       "ArrivalActual              datetime64[ns]\n",
       "ArrivalAirport                     object\n",
       "ArrivalScheduled           datetime64[ns]\n",
       "DepartureActual            datetime64[ns]\n",
       "DepartureAirport                   object\n",
       "DepartureScheduled         datetime64[ns]\n",
       "FlightNo                            int64\n",
       "FlightStatus                       object\n",
       "IDCode                             object\n",
       "RouteCode                          object\n",
       "StatusReason                       object\n",
       "DepartureAirportName               object\n",
       "DepartureCity                      object\n",
       "DepartureState                     object\n",
       "DepartureCountry                   object\n",
       "DepartureContinent                 object\n",
       "ArrivalAirportName                 object\n",
       "ArrivalCity                        object\n",
       "ArrivalState                       object\n",
       "ArrivalCountry                     object\n",
       "ArrivalContinent                   object\n",
       "AirlineName                        object\n",
       "AirlineOrigin                      object\n",
       "FlightType                         object\n",
       "RouteType                          object\n",
       "StatusReasonDescription            object\n",
       "dtype: object"
      ]
     },
     "execution_count": 5,
     "metadata": {},
     "output_type": "execute_result"
    }
   ],
   "source": [
    "flight_data.dtypes"
   ]
  },
  {
   "cell_type": "markdown",
   "metadata": {},
   "source": [
    "### 1. What are the busiest airports in Brazil? What are the busiest routes between cities?"
   ]
  },
  {
   "cell_type": "code",
   "execution_count": 6,
   "metadata": {},
   "outputs": [
    {
     "data": {
      "text/html": [
       "<div>\n",
       "<style scoped>\n",
       "    .dataframe tbody tr th:only-of-type {\n",
       "        vertical-align: middle;\n",
       "    }\n",
       "\n",
       "    .dataframe tbody tr th {\n",
       "        vertical-align: top;\n",
       "    }\n",
       "\n",
       "    .dataframe thead th {\n",
       "        text-align: right;\n",
       "    }\n",
       "</style>\n",
       "<table border=\"1\" class=\"dataframe\">\n",
       "  <thead>\n",
       "    <tr style=\"text-align: right;\">\n",
       "      <th></th>\n",
       "      <th>DepartureAirportName</th>\n",
       "      <th>DepartureCity</th>\n",
       "      <th>counts</th>\n",
       "    </tr>\n",
       "  </thead>\n",
       "  <tbody>\n",
       "    <tr>\n",
       "      <th>96</th>\n",
       "      <td>GUARULHOS - GOVERNADOR ANDRÉ FRANCO MONTORO</td>\n",
       "      <td>GUARULHOS</td>\n",
       "      <td>132753</td>\n",
       "    </tr>\n",
       "    <tr>\n",
       "      <th>51</th>\n",
       "      <td>CONGONHAS</td>\n",
       "      <td>SÃO PAULO</td>\n",
       "      <td>92797</td>\n",
       "    </tr>\n",
       "    <tr>\n",
       "      <th>184</th>\n",
       "      <td>PRESIDENTE JUSCELINO KUBITSCHEK</td>\n",
       "      <td>BRASÍLIA</td>\n",
       "      <td>66411</td>\n",
       "    </tr>\n",
       "    <tr>\n",
       "      <th>236</th>\n",
       "      <td>VIRACOPOS</td>\n",
       "      <td>CAMPINAS</td>\n",
       "      <td>66261</td>\n",
       "    </tr>\n",
       "    <tr>\n",
       "      <th>5</th>\n",
       "      <td>AEROPORTO INTERNACIONAL DO RIO DE JANEIRO/GALE...</td>\n",
       "      <td>RIO DE JANEIRO</td>\n",
       "      <td>60601</td>\n",
       "    </tr>\n",
       "  </tbody>\n",
       "</table>\n",
       "</div>"
      ],
      "text/plain": [
       "                                  DepartureAirportName   DepartureCity  counts\n",
       "96         GUARULHOS - GOVERNADOR ANDRÉ FRANCO MONTORO       GUARULHOS  132753\n",
       "51                                           CONGONHAS       SÃO PAULO   92797\n",
       "184                    PRESIDENTE JUSCELINO KUBITSCHEK        BRASÍLIA   66411\n",
       "236                                          VIRACOPOS        CAMPINAS   66261\n",
       "5    AEROPORTO INTERNACIONAL DO RIO DE JANEIRO/GALE...  RIO DE JANEIRO   60601"
      ]
     },
     "execution_count": 6,
     "metadata": {},
     "output_type": "execute_result"
    }
   ],
   "source": [
    "# Airport with most departures in 2017\n",
    "(flight_data.groupby([\"DepartureAirportName\",\"DepartureCity\"])\n",
    "    .size()\n",
    "    .reset_index(name='counts')\n",
    "    .sort_values('counts',ascending=False)\n",
    "    .head())"
   ]
  },
  {
   "cell_type": "code",
   "execution_count": 7,
   "metadata": {
    "scrolled": true
   },
   "outputs": [
    {
     "data": {
      "text/html": [
       "<div>\n",
       "<style scoped>\n",
       "    .dataframe tbody tr th:only-of-type {\n",
       "        vertical-align: middle;\n",
       "    }\n",
       "\n",
       "    .dataframe tbody tr th {\n",
       "        vertical-align: top;\n",
       "    }\n",
       "\n",
       "    .dataframe thead th {\n",
       "        text-align: right;\n",
       "    }\n",
       "</style>\n",
       "<table border=\"1\" class=\"dataframe\">\n",
       "  <thead>\n",
       "    <tr style=\"text-align: right;\">\n",
       "      <th></th>\n",
       "      <th>ArrivalAirportName</th>\n",
       "      <th>ArrivalCity</th>\n",
       "      <th>counts</th>\n",
       "    </tr>\n",
       "  </thead>\n",
       "  <tbody>\n",
       "    <tr>\n",
       "      <th>98</th>\n",
       "      <td>GUARULHOS - GOVERNADOR ANDRÉ FRANCO MONTORO</td>\n",
       "      <td>GUARULHOS</td>\n",
       "      <td>133030</td>\n",
       "    </tr>\n",
       "    <tr>\n",
       "      <th>54</th>\n",
       "      <td>CONGONHAS</td>\n",
       "      <td>SÃO PAULO</td>\n",
       "      <td>93191</td>\n",
       "    </tr>\n",
       "    <tr>\n",
       "      <th>186</th>\n",
       "      <td>PRESIDENTE JUSCELINO KUBITSCHEK</td>\n",
       "      <td>BRASÍLIA</td>\n",
       "      <td>66168</td>\n",
       "    </tr>\n",
       "    <tr>\n",
       "      <th>239</th>\n",
       "      <td>VIRACOPOS</td>\n",
       "      <td>CAMPINAS</td>\n",
       "      <td>65933</td>\n",
       "    </tr>\n",
       "    <tr>\n",
       "      <th>5</th>\n",
       "      <td>AEROPORTO INTERNACIONAL DO RIO DE JANEIRO/GALE...</td>\n",
       "      <td>RIO DE JANEIRO</td>\n",
       "      <td>60942</td>\n",
       "    </tr>\n",
       "  </tbody>\n",
       "</table>\n",
       "</div>"
      ],
      "text/plain": [
       "                                    ArrivalAirportName     ArrivalCity  counts\n",
       "98         GUARULHOS - GOVERNADOR ANDRÉ FRANCO MONTORO       GUARULHOS  133030\n",
       "54                                           CONGONHAS       SÃO PAULO   93191\n",
       "186                    PRESIDENTE JUSCELINO KUBITSCHEK        BRASÍLIA   66168\n",
       "239                                          VIRACOPOS        CAMPINAS   65933\n",
       "5    AEROPORTO INTERNACIONAL DO RIO DE JANEIRO/GALE...  RIO DE JANEIRO   60942"
      ]
     },
     "execution_count": 7,
     "metadata": {},
     "output_type": "execute_result"
    }
   ],
   "source": [
    "# Airport with most arrivals in 2017\n",
    "(flight_data.groupby([\"ArrivalAirportName\",\"ArrivalCity\"])\n",
    "    .size()\n",
    "    .reset_index(name='counts')\n",
    "    .sort_values('counts',ascending=False)\n",
    "    .head())"
   ]
  },
  {
   "cell_type": "markdown",
   "metadata": {},
   "source": [
    "* The busiest airport with most departures and arrivals in 2017 is Guarulhos Airport in Sao Paulo, and the 2nd busiest is Congonhas also in Sao Paulo."
   ]
  },
  {
   "cell_type": "code",
   "execution_count": 8,
   "metadata": {},
   "outputs": [
    {
     "data": {
      "text/html": [
       "<div>\n",
       "<style scoped>\n",
       "    .dataframe tbody tr th:only-of-type {\n",
       "        vertical-align: middle;\n",
       "    }\n",
       "\n",
       "    .dataframe tbody tr th {\n",
       "        vertical-align: top;\n",
       "    }\n",
       "\n",
       "    .dataframe thead th {\n",
       "        text-align: right;\n",
       "    }\n",
       "</style>\n",
       "<table border=\"1\" class=\"dataframe\">\n",
       "  <thead>\n",
       "    <tr style=\"text-align: right;\">\n",
       "      <th></th>\n",
       "      <th>DepartureCity</th>\n",
       "      <th>ArrivalCity</th>\n",
       "      <th>counts</th>\n",
       "    </tr>\n",
       "  </thead>\n",
       "  <tbody>\n",
       "    <tr>\n",
       "      <th>2315</th>\n",
       "      <td>SÃO PAULO</td>\n",
       "      <td>RIO DE JANEIRO</td>\n",
       "      <td>24873</td>\n",
       "    </tr>\n",
       "    <tr>\n",
       "      <th>1951</th>\n",
       "      <td>RIO DE JANEIRO</td>\n",
       "      <td>SÃO PAULO</td>\n",
       "      <td>24798</td>\n",
       "    </tr>\n",
       "    <tr>\n",
       "      <th>1040</th>\n",
       "      <td>GUARULHOS</td>\n",
       "      <td>RIO DE JANEIRO</td>\n",
       "      <td>9597</td>\n",
       "    </tr>\n",
       "    <tr>\n",
       "      <th>1904</th>\n",
       "      <td>RIO DE JANEIRO</td>\n",
       "      <td>GUARULHOS</td>\n",
       "      <td>9565</td>\n",
       "    </tr>\n",
       "    <tr>\n",
       "      <th>320</th>\n",
       "      <td>BRASÍLIA</td>\n",
       "      <td>RIO DE JANEIRO</td>\n",
       "      <td>8344</td>\n",
       "    </tr>\n",
       "    <tr>\n",
       "      <th>2285</th>\n",
       "      <td>SÃO PAULO</td>\n",
       "      <td>BRASÍLIA</td>\n",
       "      <td>8282</td>\n",
       "    </tr>\n",
       "    <tr>\n",
       "      <th>336</th>\n",
       "      <td>BRASÍLIA</td>\n",
       "      <td>SÃO PAULO</td>\n",
       "      <td>8280</td>\n",
       "    </tr>\n",
       "    <tr>\n",
       "      <th>1881</th>\n",
       "      <td>RIO DE JANEIRO</td>\n",
       "      <td>BRASÍLIA</td>\n",
       "      <td>8272</td>\n",
       "    </tr>\n",
       "    <tr>\n",
       "      <th>712</th>\n",
       "      <td>CONFINS</td>\n",
       "      <td>SÃO PAULO</td>\n",
       "      <td>8081</td>\n",
       "    </tr>\n",
       "    <tr>\n",
       "      <th>2292</th>\n",
       "      <td>SÃO PAULO</td>\n",
       "      <td>CONFINS</td>\n",
       "      <td>7940</td>\n",
       "    </tr>\n",
       "  </tbody>\n",
       "</table>\n",
       "</div>"
      ],
      "text/plain": [
       "       DepartureCity     ArrivalCity  counts\n",
       "2315       SÃO PAULO  RIO DE JANEIRO   24873\n",
       "1951  RIO DE JANEIRO       SÃO PAULO   24798\n",
       "1040       GUARULHOS  RIO DE JANEIRO    9597\n",
       "1904  RIO DE JANEIRO       GUARULHOS    9565\n",
       "320         BRASÍLIA  RIO DE JANEIRO    8344\n",
       "2285       SÃO PAULO        BRASÍLIA    8282\n",
       "336         BRASÍLIA       SÃO PAULO    8280\n",
       "1881  RIO DE JANEIRO        BRASÍLIA    8272\n",
       "712          CONFINS       SÃO PAULO    8081\n",
       "2292       SÃO PAULO         CONFINS    7940"
      ]
     },
     "execution_count": 8,
     "metadata": {},
     "output_type": "execute_result"
    }
   ],
   "source": [
    "# Busiest Routes in 2017\n",
    "(flight_data.groupby(['DepartureCity','ArrivalCity'])\n",
    "    .size()\n",
    "    .reset_index(name='counts')\n",
    "    .sort_values('counts',ascending=False)\n",
    "    .head(10))"
   ]
  },
  {
   "cell_type": "markdown",
   "metadata": {},
   "source": [
    "* The busiest routes in Brazil are Sao Paulo <-> Rio De Janeiro and Guarulhos (note this is also in Sao Paulo) <-> Rio De Janeiro."
   ]
  },
  {
   "cell_type": "markdown",
   "metadata": {},
   "source": [
    "### 2. Can you estimate how many people have flown in Brazil on any given day in 2017?"
   ]
  },
  {
   "cell_type": "code",
   "execution_count": 9,
   "metadata": {},
   "outputs": [
    {
     "data": {
      "text/html": [
       "<div>\n",
       "<style scoped>\n",
       "    .dataframe tbody tr th:only-of-type {\n",
       "        vertical-align: middle;\n",
       "    }\n",
       "\n",
       "    .dataframe tbody tr th {\n",
       "        vertical-align: top;\n",
       "    }\n",
       "\n",
       "    .dataframe thead th {\n",
       "        text-align: right;\n",
       "    }\n",
       "</style>\n",
       "<table border=\"1\" class=\"dataframe\">\n",
       "  <thead>\n",
       "    <tr style=\"text-align: right;\">\n",
       "      <th></th>\n",
       "      <th>FlightType</th>\n",
       "      <th>counts</th>\n",
       "    </tr>\n",
       "  </thead>\n",
       "  <tbody>\n",
       "    <tr>\n",
       "      <th>2</th>\n",
       "      <td>Vôo Regular</td>\n",
       "      <td>1043368</td>\n",
       "    </tr>\n",
       "    <tr>\n",
       "      <th>10</th>\n",
       "      <td>Vôo extra sem HOTRAN</td>\n",
       "      <td>37050</td>\n",
       "    </tr>\n",
       "    <tr>\n",
       "      <th>0</th>\n",
       "      <td>Inclusão de etapa em um vôo previsto em HOTRAN</td>\n",
       "      <td>9541</td>\n",
       "    </tr>\n",
       "    <tr>\n",
       "      <th>4</th>\n",
       "      <td>Vôo de Serviço</td>\n",
       "      <td>4897</td>\n",
       "    </tr>\n",
       "    <tr>\n",
       "      <th>3</th>\n",
       "      <td>Vôo charter</td>\n",
       "      <td>4270</td>\n",
       "    </tr>\n",
       "    <tr>\n",
       "      <th>6</th>\n",
       "      <td>Vôo de fretamento</td>\n",
       "      <td>2486</td>\n",
       "    </tr>\n",
       "    <tr>\n",
       "      <th>8</th>\n",
       "      <td>Vôo de retorno</td>\n",
       "      <td>1754</td>\n",
       "    </tr>\n",
       "    <tr>\n",
       "      <th>9</th>\n",
       "      <td>Vôo extra com HOTRAN</td>\n",
       "      <td>1720</td>\n",
       "    </tr>\n",
       "    <tr>\n",
       "      <th>5</th>\n",
       "      <td>Vôo de experiência</td>\n",
       "      <td>211</td>\n",
       "    </tr>\n",
       "    <tr>\n",
       "      <th>1</th>\n",
       "      <td>Vôo Cargueiro</td>\n",
       "      <td>186</td>\n",
       "    </tr>\n",
       "    <tr>\n",
       "      <th>7</th>\n",
       "      <td>Vôo de instrução</td>\n",
       "      <td>1</td>\n",
       "    </tr>\n",
       "  </tbody>\n",
       "</table>\n",
       "</div>"
      ],
      "text/plain": [
       "                                        FlightType   counts\n",
       "2                                      Vôo Regular  1043368\n",
       "10                            Vôo extra sem HOTRAN    37050\n",
       "0   Inclusão de etapa em um vôo previsto em HOTRAN     9541\n",
       "4                                   Vôo de Serviço     4897\n",
       "3                                      Vôo charter     4270\n",
       "6                                Vôo de fretamento     2486\n",
       "8                                   Vôo de retorno     1754\n",
       "9                             Vôo extra com HOTRAN     1720\n",
       "5                               Vôo de experiência      211\n",
       "1                                    Vôo Cargueiro      186\n",
       "7                                 Vôo de instrução        1"
      ]
     },
     "execution_count": 9,
     "metadata": {},
     "output_type": "execute_result"
    }
   ],
   "source": [
    "# Assume we are just looking at 'Voo Regular' type of flight\n",
    "flight_data.groupby(['FlightType']).size().reset_index(name='counts').sort_values('counts',ascending=False)"
   ]
  },
  {
   "cell_type": "code",
   "execution_count": 10,
   "metadata": {},
   "outputs": [],
   "source": [
    "# Get only scheduled departure dates of flights\n",
    "flight_data['date'] = flight_data['ArrivalScheduled'].dt.date"
   ]
  },
  {
   "cell_type": "code",
   "execution_count": 11,
   "metadata": {},
   "outputs": [
    {
     "data": {
      "text/plain": [
       "2859.0881542699726"
      ]
     },
     "execution_count": 11,
     "metadata": {},
     "output_type": "execute_result"
    }
   ],
   "source": [
    "# Get mean number of regular flights per day\n",
    "startdate = pd.to_datetime(\"2017-01-01\").date()\n",
    "enddate = pd.to_datetime(\"2017-12-31\").date()\n",
    "(flight_data[(flight_data['date'] > startdate) & (flight_data['date'] < enddate)]\n",
    "    .query('FlightType==\"Vôo Regular\"')\n",
    "    .groupby(['date','FlightType'])\n",
    "    .size().reset_index(name='counts')\n",
    "    .counts.mean())"
   ]
  },
  {
   "cell_type": "markdown",
   "metadata": {},
   "source": [
    "- For the estimate, we will only use the most common 'Regular Flights', since the others (eg. service, cargo and return flights don't carry many people). Therefore, a there are a total of ~1,040,000 flights in 2017, and the average number of flights per day is 2859. \n",
    "- Let's estimate on average there are 100 passengers on each flight, since most flights are smaller domestic flights. Therefore, there are ~285,900 people flying in Brazil per day."
   ]
  },
  {
   "cell_type": "markdown",
   "metadata": {},
   "source": [
    "### 3. Can you find a way to distinguish touristic destinations from business destinations in this dataset?\n",
    "* To find touristic cities, I will look at arrival city only\n",
    "* Touristic destinations will have a seasonal fluctuation: exhibit increase in flights during the peak holiday season (Dec-March)\n",
    "* Business destinations - mostly steady throughout the year, with weekly seasonality, business people would likely travel on weekdays and be home on weekends. Drastic difference in weekday vs weekend flights\n",
    "* Tourist cities: Foz Do Iguacu, Salvador, Manaus\n",
    "* Business cities: Sao Paulo, Rio, Brasilia"
   ]
  },
  {
   "cell_type": "code",
   "execution_count": 12,
   "metadata": {},
   "outputs": [
    {
     "data": {
      "text/plain": [
       "<matplotlib.axes._subplots.AxesSubplot at 0x1ff4da55198>"
      ]
     },
     "execution_count": 12,
     "metadata": {},
     "output_type": "execute_result"
    },
    {
     "data": {
      "image/png": "[encoded data removed]",
      "text/plain": [
       "<Figure size 432x288 with 1 Axes>"
      ]
     },
     "metadata": {
      "needs_background": "light"
     },
     "output_type": "display_data"
    }
   ],
   "source": [
    "# Sao Paulo: Volume of flights by Arrival City and Date\n",
    "saopaulo_trend = (flight_data\n",
    "    .query('ArrivalCity==\"SÃO PAULO\"')\n",
    "    .groupby(['date'])\n",
    "    .size().reset_index(name='counts')\n",
    "    .sort_values('counts',ascending=False))\n",
    "saopaulo_trend.plot('date','counts',legend=None)"
   ]
  },
  {
   "cell_type": "code",
   "execution_count": 14,
   "metadata": {},
   "outputs": [],
   "source": [
    "# Sao Paulo arrivals by dayofweek\n",
    "flight_data['DayOfWeek'] = flight_data[\"DepartureScheduled\"].dt.day_name()\n",
    "saopaulo_dayofweek = (flight_data\n",
    "    .query('ArrivalCity==\"SÃO PAULO\"')\n",
    "    .groupby([\"DayOfWeek\"])\n",
    "    .agg(\"size\")\n",
    "    .reset_index(name=\"count\"))"
   ]
  },
  {
   "cell_type": "code",
   "execution_count": 15,
   "metadata": {},
   "outputs": [
    {
     "data": {
      "image/png": "[encoded data removed]",
      "text/plain": [
       "<Figure size 432x288 with 1 Axes>"
      ]
     },
     "metadata": {
      "needs_background": "light"
     },
     "output_type": "display_data"
    }
   ],
   "source": [
    "order= ['Monday','Tuesday','Wednesday','Thursday','Friday','Saturday', 'Sunday']\n",
    "\n",
    "saopaulo_dayofweek.set_index('DayOfWeek').loc[order].reset_index().plot(kind='bar',x='DayOfWeek',y='count',legend=None)\n",
    "plt.xlabel('Day')\n",
    "plt.ylabel('Number of Flights')\n",
    "plt.show()"
   ]
  },
  {
   "cell_type": "markdown",
   "metadata": {},
   "source": [
    "For Sao Paulo, there is a weekly seasonality with business travellers flying on weekdays and staying home on weekends"
   ]
  },
  {
   "cell_type": "code",
   "execution_count": 16,
   "metadata": {},
   "outputs": [
    {
     "data": {
      "text/plain": [
       "<matplotlib.axes._subplots.AxesSubplot at 0x1ff02291160>"
      ]
     },
     "execution_count": 16,
     "metadata": {},
     "output_type": "execute_result"
    },
    {
     "data": {
      "image/png": "[encoded data removed]",
      "text/plain": [
       "<Figure size 432x288 with 1 Axes>"
      ]
     },
     "metadata": {
      "needs_background": "light"
     },
     "output_type": "display_data"
    }
   ],
   "source": [
    "brasilia_trend = (flight_data\n",
    "    .query('ArrivalCity==\"BRASÍLIA\"')\n",
    "    .groupby(['date'])\n",
    "    .size().reset_index(name='counts')\n",
    "    .sort_values('counts',ascending=True))\n",
    "brasilia_trend.plot('date','counts',legend=None)"
   ]
  },
  {
   "cell_type": "markdown",
   "metadata": {},
   "source": [
    "Brasilia has a similar pattern to Sao Paulo"
   ]
  },
  {
   "cell_type": "code",
   "execution_count": 17,
   "metadata": {},
   "outputs": [
    {
     "data": {
      "text/plain": [
       "<matplotlib.axes._subplots.AxesSubplot at 0x1ff022f3978>"
      ]
     },
     "execution_count": 17,
     "metadata": {},
     "output_type": "execute_result"
    },
    {
     "data": {
      "image/png": "[encoded data removed]",
      "text/plain": [
       "<Figure size 432x288 with 1 Axes>"
      ]
     },
     "metadata": {
      "needs_background": "light"
     },
     "output_type": "display_data"
    }
   ],
   "source": [
    "manaus_trend = (flight_data\n",
    "    .query('ArrivalCity==\"MANAUS\"')\n",
    "    .groupby(['date'])\n",
    "    .size().reset_index(name='counts')\n",
    "    .sort_values('counts',ascending=True))\n",
    "manaus_trend.plot('date','counts',legend=None)"
   ]
  },
  {
   "cell_type": "markdown",
   "metadata": {},
   "source": [
    "Manaus is a tourist city near the Amazon, and we can see that it fluctuates much more over the year, as opposed to the stable, weekly up-and-down of a business city. "
   ]
  },
  {
   "cell_type": "code",
   "execution_count": 18,
   "metadata": {},
   "outputs": [
    {
     "data": {
      "text/plain": [
       "<matplotlib.axes._subplots.AxesSubplot at 0x1ff022ec630>"
      ]
     },
     "execution_count": 18,
     "metadata": {},
     "output_type": "execute_result"
    },
    {
     "data": {
      "image/png": "[encoded data removed]",
      "text/plain": [
       "<Figure size 432x288 with 1 Axes>"
      ]
     },
     "metadata": {
      "needs_background": "light"
     },
     "output_type": "display_data"
    }
   ],
   "source": [
    "iguacu_trend = (flight_data\n",
    "    .query('ArrivalCity==\"FOZ DO IGUAÇU\"')\n",
    "    .groupby(['date'])\n",
    "    .size().reset_index(name='counts')\n",
    "    .sort_values('counts',ascending=True))\n",
    "iguacu_trend.plot('date','counts',legend=None)"
   ]
  },
  {
   "cell_type": "markdown",
   "metadata": {},
   "source": [
    "Foz do Iguacu (Iguazu Falls) is one of the biggest tourist sites in Brazil. Definitely peaking during the high christmas/newyear season"
   ]
  },
  {
   "cell_type": "code",
   "execution_count": 19,
   "metadata": {},
   "outputs": [
    {
     "data": {
      "text/plain": [
       "<matplotlib.axes._subplots.AxesSubplot at 0x1ff023c60f0>"
      ]
     },
     "execution_count": 19,
     "metadata": {},
     "output_type": "execute_result"
    },
    {
     "data": {
      "image/png": "[encoded data removed]",
      "text/plain": [
       "<Figure size 432x288 with 1 Axes>"
      ]
     },
     "metadata": {
      "needs_background": "light"
     },
     "output_type": "display_data"
    }
   ],
   "source": [
    "salvador_trend = (flight_data\n",
    "    .query('ArrivalCity==\"SALVADOR\"')\n",
    "    .groupby(['date'])\n",
    "    .size().reset_index(name='counts')\n",
    "    .sort_values('counts',ascending=True))\n",
    "salvador_trend.plot('date','counts',legend=None)"
   ]
  },
  {
   "cell_type": "markdown",
   "metadata": {},
   "source": [
    "Similar for Salvador. Obvious peak around February is the Carnaval"
   ]
  },
  {
   "cell_type": "markdown",
   "metadata": {},
   "source": [
    "### 4. What is the likelihood that a flight is going to be delayed given a departure airport, airline, month, day of the week, and scheduled departure hour?"
   ]
  },
  {
   "cell_type": "markdown",
   "metadata": {},
   "source": [
    "#### Solution: \n",
    "Build a model to predict y, flight delay, given x variables: airport, airline, month, day and hour\n",
    "\n",
    "#### Output: \n",
    "A list of probabilities for each combination of airport, airline, month, day and hour"
   ]
  },
  {
   "cell_type": "markdown",
   "metadata": {},
   "source": [
    "#### Feature Engineering"
   ]
  },
  {
   "cell_type": "code",
   "execution_count": 20,
   "metadata": {},
   "outputs": [],
   "source": [
    "# Remove null values from scheduled deparature and actual departure or else we can't get the target variable\n",
    "flight_data = flight_data[flight_data[\"DepartureActual\"].notnull() & flight_data[\"DepartureScheduled\"].notnull()]\n",
    "\n",
    "# Create target variable for flight delay (actual flight time is after scheduled time)\n",
    "flight_data[\"FlightDelayed\"] = np.where(flight_data[\"DepartureActual\"] > flight_data[\"DepartureScheduled\"], 1, 0)"
   ]
  },
  {
   "cell_type": "code",
   "execution_count": 21,
   "metadata": {},
   "outputs": [],
   "source": [
    "# Create Features for hour, day and month\n",
    "flight_data['DepartureMonth'] = flight_data[\"DepartureScheduled\"].dt.month\n",
    "flight_data['DepartureHour'] = flight_data[\"DepartureScheduled\"].dt.hour\n",
    "flight_data['DayOfWeek'] = flight_data[\"DepartureScheduled\"].dt.day_name()"
   ]
  },
  {
   "cell_type": "code",
   "execution_count": 22,
   "metadata": {},
   "outputs": [
    {
     "data": {
      "text/html": [
       "<div>\n",
       "<style scoped>\n",
       "    .dataframe tbody tr th:only-of-type {\n",
       "        vertical-align: middle;\n",
       "    }\n",
       "\n",
       "    .dataframe tbody tr th {\n",
       "        vertical-align: top;\n",
       "    }\n",
       "\n",
       "    .dataframe thead th {\n",
       "        text-align: right;\n",
       "    }\n",
       "</style>\n",
       "<table border=\"1\" class=\"dataframe\">\n",
       "  <thead>\n",
       "    <tr style=\"text-align: right;\">\n",
       "      <th></th>\n",
       "      <th>DepartureAirportName</th>\n",
       "      <th>AirlineName</th>\n",
       "      <th>DepartureMonth</th>\n",
       "      <th>DepartureHour</th>\n",
       "      <th>DayOfWeek</th>\n",
       "      <th>FlightDelayed</th>\n",
       "    </tr>\n",
       "  </thead>\n",
       "  <tbody>\n",
       "    <tr>\n",
       "      <th>0</th>\n",
       "      <td>MIAMI INTERNATIONAL AIRPORT</td>\n",
       "      <td>AMERICAN AIRLINES INC</td>\n",
       "      <td>2</td>\n",
       "      <td>1</td>\n",
       "      <td>Wednesday</td>\n",
       "      <td>0</td>\n",
       "    </tr>\n",
       "    <tr>\n",
       "      <th>1</th>\n",
       "      <td>MIAMI INTERNATIONAL AIRPORT</td>\n",
       "      <td>AMERICAN AIRLINES INC</td>\n",
       "      <td>1</td>\n",
       "      <td>1</td>\n",
       "      <td>Tuesday</td>\n",
       "      <td>0</td>\n",
       "    </tr>\n",
       "    <tr>\n",
       "      <th>2</th>\n",
       "      <td>MIAMI INTERNATIONAL AIRPORT</td>\n",
       "      <td>AMERICAN AIRLINES INC</td>\n",
       "      <td>1</td>\n",
       "      <td>1</td>\n",
       "      <td>Sunday</td>\n",
       "      <td>0</td>\n",
       "    </tr>\n",
       "    <tr>\n",
       "      <th>3</th>\n",
       "      <td>MIAMI INTERNATIONAL AIRPORT</td>\n",
       "      <td>AMERICAN AIRLINES INC</td>\n",
       "      <td>1</td>\n",
       "      <td>1</td>\n",
       "      <td>Monday</td>\n",
       "      <td>0</td>\n",
       "    </tr>\n",
       "    <tr>\n",
       "      <th>4</th>\n",
       "      <td>MIAMI INTERNATIONAL AIRPORT</td>\n",
       "      <td>AMERICAN AIRLINES INC</td>\n",
       "      <td>1</td>\n",
       "      <td>1</td>\n",
       "      <td>Wednesday</td>\n",
       "      <td>0</td>\n",
       "    </tr>\n",
       "  </tbody>\n",
       "</table>\n",
       "</div>"
      ],
      "text/plain": [
       "          DepartureAirportName            AirlineName  DepartureMonth  \\\n",
       "0  MIAMI INTERNATIONAL AIRPORT  AMERICAN AIRLINES INC               2   \n",
       "1  MIAMI INTERNATIONAL AIRPORT  AMERICAN AIRLINES INC               1   \n",
       "2  MIAMI INTERNATIONAL AIRPORT  AMERICAN AIRLINES INC               1   \n",
       "3  MIAMI INTERNATIONAL AIRPORT  AMERICAN AIRLINES INC               1   \n",
       "4  MIAMI INTERNATIONAL AIRPORT  AMERICAN AIRLINES INC               1   \n",
       "\n",
       "   DepartureHour  DayOfWeek  FlightDelayed  \n",
       "0              1  Wednesday              0  \n",
       "1              1    Tuesday              0  \n",
       "2              1     Sunday              0  \n",
       "3              1     Monday              0  \n",
       "4              1  Wednesday              0  "
      ]
     },
     "execution_count": 22,
     "metadata": {},
     "output_type": "execute_result"
    }
   ],
   "source": [
    "# Select Only Required Columns\n",
    "model_data = flight_data[[\"DepartureAirportName\",\"AirlineName\",\"DepartureMonth\",\"DepartureHour\",\"DayOfWeek\",\"FlightDelayed\"]]\n",
    "\n",
    "# Check features\n",
    "model_data.head()"
   ]
  },
  {
   "cell_type": "markdown",
   "metadata": {},
   "source": [
    "#### Quick EDA"
   ]
  },
  {
   "cell_type": "code",
   "execution_count": 23,
   "metadata": {},
   "outputs": [
    {
     "data": {
      "text/plain": [
       "FlightDelayed\n",
       "0    760102\n",
       "1    169822\n",
       "dtype: int64"
      ]
     },
     "execution_count": 23,
     "metadata": {},
     "output_type": "execute_result"
    }
   ],
   "source": [
    "# 760102 out of 929924 (81.7%) flights are delayed\n",
    "model_data.groupby(\"FlightDelayed\").size()"
   ]
  },
  {
   "cell_type": "code",
   "execution_count": 26,
   "metadata": {},
   "outputs": [
    {
     "data": {
      "text/plain": [
       "193"
      ]
     },
     "execution_count": 26,
     "metadata": {},
     "output_type": "execute_result"
    }
   ],
   "source": [
    "# 193 Different Departure Airports\n",
    "model_data[\"DepartureAirportName\"].nunique()"
   ]
  },
  {
   "cell_type": "code",
   "execution_count": 27,
   "metadata": {},
   "outputs": [],
   "source": [
    "# Departure Month vs Delays\n",
    "df3 = (model_data\n",
    "    .groupby([\"DepartureMonth\",\"FlightDelayed\"])\n",
    "    .agg(\"size\"))\n",
    "    \n",
    "percentage_delays_month = (df3 / df3.groupby(level=0).sum()).reset_index(name='percentage').query('FlightDelayed==1')"
   ]
  },
  {
   "cell_type": "code",
   "execution_count": 28,
   "metadata": {},
   "outputs": [
    {
     "data": {
      "image/png": "[encoded data removed]",
      "text/plain": [
       "<Figure size 432x288 with 1 Axes>"
      ]
     },
     "metadata": {
      "needs_background": "light"
     },
     "output_type": "display_data"
    }
   ],
   "source": [
    "percentage_delays_month.plot(kind='bar',x='DepartureMonth',y='percentage',legend=None)\n",
    "plt.xlabel('Month')\n",
    "plt.ylabel('Percentage of Delays')\n",
    "plt.show()"
   ]
  },
  {
   "cell_type": "markdown",
   "metadata": {},
   "source": [
    "* We see lowest delays in March and gradually increases to peak in Oct-Dec"
   ]
  },
  {
   "cell_type": "code",
   "execution_count": 29,
   "metadata": {},
   "outputs": [],
   "source": [
    "# Departure Month vs Delays\n",
    "df4 = (model_data\n",
    "    .groupby([\"DepartureHour\",\"FlightDelayed\"])\n",
    "    .agg(\"size\"))\n",
    "    \n",
    "percentage_delays_hour = (df4 / df4.groupby(level=0).sum()).reset_index(name='percentage').query('FlightDelayed==1')"
   ]
  },
  {
   "cell_type": "code",
   "execution_count": 30,
   "metadata": {},
   "outputs": [
    {
     "data": {
      "image/png": "[encoded data removed]",
      "text/plain": [
       "<Figure size 432x288 with 1 Axes>"
      ]
     },
     "metadata": {
      "needs_background": "light"
     },
     "output_type": "display_data"
    }
   ],
   "source": [
    "percentage_delays_hour.plot(kind='bar',x='DepartureHour',y='percentage',legend=None)\n",
    "plt.xlabel('Hour of Day')\n",
    "plt.ylabel('Percentage of Delays')\n",
    "plt.show()"
   ]
  },
  {
   "cell_type": "markdown",
   "metadata": {},
   "source": [
    "* Least delays occur between 1-7am, and highest portion of delays occur at 5-11pm. Also a large portion of delays occur between 12-1am?"
   ]
  },
  {
   "cell_type": "code",
   "execution_count": 31,
   "metadata": {},
   "outputs": [],
   "source": [
    "# Departure dayofweek vs Delays\n",
    "df5 = (model_data\n",
    "    .groupby([\"DayOfWeek\",\"FlightDelayed\"])\n",
    "    .agg(\"size\"))\n",
    "    \n",
    "percentage_delays_day = (df5 / df5.groupby(level=0).sum()).reset_index(name='percentage').query('FlightDelayed==1')"
   ]
  },
  {
   "cell_type": "code",
   "execution_count": 32,
   "metadata": {},
   "outputs": [
    {
     "data": {
      "image/png": "[encoded data removed]",
      "text/plain": [
       "<Figure size 432x288 with 1 Axes>"
      ]
     },
     "metadata": {
      "needs_background": "light"
     },
     "output_type": "display_data"
    }
   ],
   "source": [
    "order= ['Monday','Tuesday','Wednesday','Thursday','Friday','Saturday', 'Sunday']\n",
    "\n",
    "percentage_delays_day.set_index('DayOfWeek').loc[order].reset_index().plot(kind='bar',x='DayOfWeek',y='percentage',legend=None)\n",
    "plt.xlabel('Day')\n",
    "plt.ylabel('Percentage of Delays')\n",
    "plt.show()"
   ]
  },
  {
   "cell_type": "markdown",
   "metadata": {},
   "source": [
    "* Friday is when percentage of delays peaks"
   ]
  },
  {
   "cell_type": "markdown",
   "metadata": {},
   "source": [
    "Takeaways from EDA:\n",
    "* Unbalance in target variable ~20-80 : delay-notdelay\n",
    "* Some relationships between the hour, day of week and month with flight delays, but mostly won't by themselves give us confidence on whether flight is delayed\n",
    "* There are 193 airports in total, so would be better to reduce these categories down (eg. use State instead)"
   ]
  },
  {
   "cell_type": "markdown",
   "metadata": {},
   "source": [
    "#### Build Model\n",
    "- Build random forest model on the features above"
   ]
  },
  {
   "cell_type": "code",
   "execution_count": 33,
   "metadata": {},
   "outputs": [],
   "source": [
    "# One hot encoding\n",
    "model_data_onehot = pd.get_dummies(model_data)"
   ]
  },
  {
   "cell_type": "code",
   "execution_count": 34,
   "metadata": {},
   "outputs": [],
   "source": [
    "X = model_data_onehot.loc[:, model_data_onehot.columns != 'FlightDelayed']\n",
    "y = model_data_onehot['FlightDelayed']\n",
    "\n",
    "# Split dataset into training set and test set\n",
    "X_train, X_test, y_train, y_test = train_test_split(X, y, test_size=0.3) # 70% training and 30% test"
   ]
  },
  {
   "cell_type": "code",
   "execution_count": 45,
   "metadata": {},
   "outputs": [],
   "source": [
    "# Randomforest classifier\n",
    "rf_model=RandomForestClassifier(n_estimators=100)\n",
    "\n",
    "#Train the model on train set\n",
    "rf_model.fit(X_train,y_train)"
   ]
  },
  {
   "cell_type": "code",
   "execution_count": 48,
   "metadata": {},
   "outputs": [],
   "source": [
    "# Output probabilities\n",
    "y_prob = rf_model.predict_proba(X_test)\n",
    "\n",
    "# Output Delay/NotDelay predictions\n",
    "y_pred = rf_model.predict(X_test)"
   ]
  },
  {
   "cell_type": "code",
   "execution_count": 49,
   "metadata": {},
   "outputs": [
    {
     "data": {
      "text/plain": [
       "array([[0.72097952, 0.27902048],\n",
       "       [0.89027183, 0.10972817],\n",
       "       [1.        , 0.        ],\n",
       "       ...,\n",
       "       [0.77652528, 0.22347472],\n",
       "       [0.88325928, 0.11674072],\n",
       "       [0.98416667, 0.01583333]])"
      ]
     },
     "execution_count": 49,
     "metadata": {},
     "output_type": "execute_result"
    }
   ],
   "source": [
    "y_prob"
   ]
  },
  {
   "cell_type": "code",
   "execution_count": 50,
   "metadata": {},
   "outputs": [
    {
     "name": "stdout",
     "output_type": "stream",
     "text": [
      "Accuracy: 0.7978514434829986\n",
      "AUC: 0.550957071957189\n"
     ]
    }
   ],
   "source": [
    "# Model Accuracy\n",
    "print(\"Accuracy:\",metrics.accuracy_score(y_test, y_pred))\n",
    "# Model AUC\n",
    "print(\"AUC:\",metrics.roc_auc_score(y_test, y_pred))"
   ]
  },
  {
   "cell_type": "markdown",
   "metadata": {},
   "source": [
    "#### Ways to Improve Model\n",
    "- balance the dataset since it is 20-80 delay-notdelay: upsampling, downsampling or SMOTE\n",
    "- do more feature engineering \n",
    "    - encode the cyclical nature of time features so that 2330 is close to 0030 (use sine/cos transforms)\n",
    "    - reduce number of categories for airport variable - use departure state (193 down to 27), perhaps group rare levels into 'other'  \n",
    "    - introduce other features like weather, delayed incoming flight, busyness of airport"
   ]
  },
  {
   "cell_type": "markdown",
   "metadata": {},
   "source": [
    "### 5. Can you use your model/system from Question 4 to help me arrive at the airport within 30 minutes before departure at the airport? Can your system/model guarantee that 90% of the time I will not be waiting for longer than 1 hour or miss my flight?\n",
    "\n",
    "#### Solution:\n",
    "- To solve this problem, we should change to a regression problem, so we are predicting length in minutes of delay rather than delay/notdelay. \n",
    "- We can predict how many minutes a flight is delayed and give a 90% confidence window of the length of delay. Therefore, we output a prediction interval of when the flight will arrive.\n",
    "- If the width of the 90% prediction interval is less than 1 hour, then we can make the guarantee\n",
    "\n",
    "Below is the formula to calculate a prediction interval using a multiple linear regression (from https://newonlinecourses.science.psu.edu/stat501/node/315/):\n",
    "\n",
    "<img src=\"predictioninterval.png\">"
   ]
  },
  {
   "cell_type": "markdown",
   "metadata": {},
   "source": [
    "### 6. I live in the city of Porto Alegre, Brazil and I want to visit all airports in the country. In 2017, what is the quickest way that I could have achieved this?\n",
    "- Travelling Salesman Problem: will do simple non-optimal nearest neighbours solution\n",
    "\n",
    "Steps:\n",
    "1. Remove outlier flights where the flight time is super short or super long and only for domestic flights\n",
    "2. Get average time in min between 2 cities in Brazil\n",
    "3. Run Algorithm\n",
    "\n",
    "Algorithm (based on nearest neighbour):\n",
    "1. Set start city to PORTO ALEGRE and append to city_sequence\n",
    "2. Create set of all unique unvisited cities in brazil\n",
    "3. Remove current city from unvisited cities\n",
    "4. From the current city, list all the options of destinations we can fly to\n",
    "5. If new destinations exist, select an unvisited city that is closest to the current city. Append this to city_sequence\n",
    "6. If no new destinations exist, go back to previous city. Append this to city_sequence\n",
    "7. Repeat Steps 4-6, until unvisited cities are exhausted\n",
    "\n",
    "Note: My algorithm doesn't actually work. I was hoping to use the simplest nearest neighbour heuristic to create a flight route. It gets stuck and just ends up flying back and forth between 2 small cities; because you can't just fly to any city from your current city, you are constrained by the routes that are flown by the airlines."
   ]
  },
  {
   "cell_type": "code",
   "execution_count": 98,
   "metadata": {},
   "outputs": [
    {
     "name": "stderr",
     "output_type": "stream",
     "text": [
      "C:\\Users\\martin.cheung\\anaconda3\\lib\\site-packages\\ipykernel_launcher.py:2: SettingWithCopyWarning: \n",
      "A value is trying to be set on a copy of a slice from a DataFrame.\n",
      "Try using .loc[row_indexer,col_indexer] = value instead\n",
      "\n",
      "See the caveats in the documentation: http://pandas.pydata.org/pandas-docs/stable/indexing.html#indexing-view-versus-copy\n",
      "  \n"
     ]
    }
   ],
   "source": [
    "brazil_flights = flight_data.query('DepartureCountry==\"BRASIL\" & ArrivalCountry==\"BRASIL\"')\n",
    "brazil_flights['FlightTimeMin'] = (brazil_flights['ArrivalActual'] - brazil_flights['DepartureActual']).dt.total_seconds()/60.0"
   ]
  },
  {
   "cell_type": "code",
   "execution_count": 103,
   "metadata": {},
   "outputs": [
    {
     "data": {
      "text/plain": [
       "count    760724.000000\n",
       "mean         82.172295\n",
       "std       16165.142451\n",
       "min     -465078.000000\n",
       "25%          67.000000\n",
       "50%          90.000000\n",
       "75%         126.000000\n",
       "max       44700.000000\n",
       "Name: FlightTimeMin, dtype: float64"
      ]
     },
     "execution_count": 103,
     "metadata": {},
     "output_type": "execute_result"
    }
   ],
   "source": [
    "# We have some weird flight times for some flights - crazy high negative or positive flight times\n",
    "brazil_flights.FlightTimeMin.describe()"
   ]
  },
  {
   "cell_type": "code",
   "execution_count": 241,
   "metadata": {},
   "outputs": [],
   "source": [
    "# Make sure to remove routes with negative/tiny flight times and also flight times way too high\n",
    "# ie. flight times should be more than 30 min long and less than 1000min\n",
    "# National flights only\n",
    "brazil_flights = (brazil_flights\n",
    "    .sort_values('FlightTimeMin')\n",
    "    .query('FlightTimeMin > 30 & FlightTimeMin < 1000 & RouteType==\"Nacional\"'))"
   ]
  },
  {
   "cell_type": "code",
   "execution_count": 242,
   "metadata": {},
   "outputs": [
    {
     "data": {
      "text/plain": [
       "108"
      ]
     },
     "execution_count": 242,
     "metadata": {},
     "output_type": "execute_result"
    }
   ],
   "source": [
    "# The Around the Brazil trip will cover 108 cities\n",
    "brazil_flights['ArrivalCity'].nunique()"
   ]
  },
  {
   "cell_type": "code",
   "execution_count": 278,
   "metadata": {},
   "outputs": [
    {
     "data": {
      "text/html": [
       "<div>\n",
       "<style scoped>\n",
       "    .dataframe tbody tr th:only-of-type {\n",
       "        vertical-align: middle;\n",
       "    }\n",
       "\n",
       "    .dataframe tbody tr th {\n",
       "        vertical-align: top;\n",
       "    }\n",
       "\n",
       "    .dataframe thead th {\n",
       "        text-align: right;\n",
       "    }\n",
       "</style>\n",
       "<table border=\"1\" class=\"dataframe\">\n",
       "  <thead>\n",
       "    <tr style=\"text-align: right;\">\n",
       "      <th></th>\n",
       "      <th>DepartureCity</th>\n",
       "      <th>ArrivalCity</th>\n",
       "      <th>AveFlightTimeMin</th>\n",
       "      <th>Total_Flights</th>\n",
       "    </tr>\n",
       "  </thead>\n",
       "  <tbody>\n",
       "    <tr>\n",
       "      <th>0</th>\n",
       "      <td>ALTA FLORESTA</td>\n",
       "      <td>VÁRZEA GRANDE</td>\n",
       "      <td>75.006757</td>\n",
       "      <td>148</td>\n",
       "    </tr>\n",
       "    <tr>\n",
       "      <th>1</th>\n",
       "      <td>ALTAMIRA</td>\n",
       "      <td>BELÉM</td>\n",
       "      <td>79.912281</td>\n",
       "      <td>456</td>\n",
       "    </tr>\n",
       "    <tr>\n",
       "      <th>2</th>\n",
       "      <td>ALTAMIRA</td>\n",
       "      <td>ITAITUBA</td>\n",
       "      <td>71.500000</td>\n",
       "      <td>68</td>\n",
       "    </tr>\n",
       "    <tr>\n",
       "      <th>3</th>\n",
       "      <td>ALTAMIRA</td>\n",
       "      <td>ORIXIMINÁ</td>\n",
       "      <td>72.500000</td>\n",
       "      <td>4</td>\n",
       "    </tr>\n",
       "    <tr>\n",
       "      <th>4</th>\n",
       "      <td>ALTAMIRA</td>\n",
       "      <td>SANTARÉM</td>\n",
       "      <td>52.976190</td>\n",
       "      <td>42</td>\n",
       "    </tr>\n",
       "  </tbody>\n",
       "</table>\n",
       "</div>"
      ],
      "text/plain": [
       "   DepartureCity    ArrivalCity  AveFlightTimeMin  Total_Flights\n",
       "0  ALTA FLORESTA  VÁRZEA GRANDE         75.006757            148\n",
       "1       ALTAMIRA          BELÉM         79.912281            456\n",
       "2       ALTAMIRA       ITAITUBA         71.500000             68\n",
       "3       ALTAMIRA      ORIXIMINÁ         72.500000              4\n",
       "4       ALTAMIRA       SANTARÉM         52.976190             42"
      ]
     },
     "execution_count": 278,
     "metadata": {},
     "output_type": "execute_result"
    }
   ],
   "source": [
    "# Get Average flight times between cities.\n",
    "# Note we have 800 possible flight routes\n",
    "city_travel_times = (brazil_flights\n",
    "    .groupby(['DepartureCity','ArrivalCity'])['FlightTimeMin']\n",
    "    .agg([\"mean\",\"count\"])\n",
    "    .reset_index()\n",
    "    .rename(columns={\"mean\": \"AveFlightTimeMin\",\"count\":\"Total_Flights\"}))\n",
    "\n",
    "city_travel_times.head()"
   ]
  },
  {
   "cell_type": "code",
   "execution_count": 1,
   "metadata": {},
   "outputs": [
    {
     "ename": "NameError",
     "evalue": "name 'city_travel_times' is not defined",
     "output_type": "error",
     "traceback": [
      "\u001b[1;31m---------------------------------------------------------------------------\u001b[0m",
      "\u001b[1;31mNameError\u001b[0m                                 Traceback (most recent call last)",
      "\u001b[1;32m<ipython-input-1-44af847cc695>\u001b[0m in \u001b[0;36m<module>\u001b[1;34m\u001b[0m\n\u001b[0;32m      1\u001b[0m \u001b[1;31m# Set of cities\u001b[0m\u001b[1;33m\u001b[0m\u001b[1;33m\u001b[0m\u001b[1;33m\u001b[0m\u001b[0m\n\u001b[1;32m----> 2\u001b[1;33m \u001b[0mcities\u001b[0m \u001b[1;33m=\u001b[0m \u001b[0mset\u001b[0m\u001b[1;33m(\u001b[0m\u001b[0mcity_travel_times\u001b[0m\u001b[1;33m[\u001b[0m\u001b[1;34m'ArrivalCity'\u001b[0m\u001b[1;33m]\u001b[0m\u001b[1;33m.\u001b[0m\u001b[0mappend\u001b[0m\u001b[1;33m(\u001b[0m\u001b[0mcity_travel_times\u001b[0m\u001b[1;33m[\u001b[0m\u001b[1;34m'DepartureCity'\u001b[0m\u001b[1;33m]\u001b[0m\u001b[1;33m)\u001b[0m\u001b[1;33m)\u001b[0m\u001b[1;33m\u001b[0m\u001b[1;33m\u001b[0m\u001b[0m\n\u001b[0m\u001b[0;32m      3\u001b[0m \u001b[0mcities\u001b[0m\u001b[1;33m.\u001b[0m\u001b[0mhead\u001b[0m\u001b[1;33m(\u001b[0m\u001b[1;33m)\u001b[0m\u001b[1;33m\u001b[0m\u001b[1;33m\u001b[0m\u001b[0m\n",
      "\u001b[1;31mNameError\u001b[0m: name 'city_travel_times' is not defined"
     ]
    }
   ],
   "source": [
    "# Set of cities\n",
    "cities = set(city_travel_times['ArrivalCity'].append(city_travel_times['DepartureCity']))\n",
    "cities.head()"
   ]
  },
  {
   "cell_type": "markdown",
   "metadata": {},
   "source": [
    "#### Algorithm Solution"
   ]
  },
  {
   "cell_type": "code",
   "execution_count": 280,
   "metadata": {},
   "outputs": [
    {
     "ename": "KeyboardInterrupt",
     "evalue": "",
     "output_type": "error",
     "traceback": [
      "\u001b[1;31m---------------------------------------------------------------------------\u001b[0m",
      "\u001b[1;31mKeyboardInterrupt\u001b[0m                         Traceback (most recent call last)",
      "\u001b[1;32m<ipython-input-280-b1e6073c9c2b>\u001b[0m in \u001b[0;36m<module>\u001b[1;34m\u001b[0m\n\u001b[0;32m      7\u001b[0m     \u001b[1;31m# - if flight to unvisited city is not available, then fly back to previous city or fly to sao paulo?\u001b[0m\u001b[1;33m\u001b[0m\u001b[1;33m\u001b[0m\u001b[1;33m\u001b[0m\u001b[0m\n\u001b[0;32m      8\u001b[0m     flight_options = (city_travel_times.loc[(city_travel_times['DepartureCity']==city_sequence[-1])\n\u001b[1;32m----> 9\u001b[1;33m                                             & (city_travel_times['ArrivalCity'].isin(unvisited))]) \n\u001b[0m\u001b[0;32m     10\u001b[0m \u001b[1;33m\u001b[0m\u001b[0m\n\u001b[0;32m     11\u001b[0m     \u001b[1;32mif\u001b[0m \u001b[1;32mnot\u001b[0m \u001b[0mflight_options\u001b[0m\u001b[1;33m.\u001b[0m\u001b[0mempty\u001b[0m\u001b[1;33m:\u001b[0m\u001b[1;33m\u001b[0m\u001b[1;33m\u001b[0m\u001b[0m\n",
      "\u001b[1;32m~\\anaconda3\\lib\\site-packages\\pandas\\core\\ops.py\u001b[0m in \u001b[0;36mwrapper\u001b[1;34m(self, other)\u001b[0m\n\u001b[0;32m   1848\u001b[0m         filler = (fill_int if is_self_int_dtype and is_other_int_dtype\n\u001b[0;32m   1849\u001b[0m                   else fill_bool)\n\u001b[1;32m-> 1850\u001b[1;33m         \u001b[0mres_values\u001b[0m \u001b[1;33m=\u001b[0m \u001b[0mna_op\u001b[0m\u001b[1;33m(\u001b[0m\u001b[0mself\u001b[0m\u001b[1;33m.\u001b[0m\u001b[0mvalues\u001b[0m\u001b[1;33m,\u001b[0m \u001b[0movalues\u001b[0m\u001b[1;33m)\u001b[0m\u001b[1;33m\u001b[0m\u001b[1;33m\u001b[0m\u001b[0m\n\u001b[0m\u001b[0;32m   1851\u001b[0m         unfilled = self._constructor(res_values,\n\u001b[0;32m   1852\u001b[0m                                      index=self.index, name=res_name)\n",
      "\u001b[1;32m~\\anaconda3\\lib\\site-packages\\pandas\\core\\ops.py\u001b[0m in \u001b[0;36mna_op\u001b[1;34m(x, y)\u001b[0m\n\u001b[0;32m   1787\u001b[0m     \u001b[1;32mdef\u001b[0m \u001b[0mna_op\u001b[0m\u001b[1;33m(\u001b[0m\u001b[0mx\u001b[0m\u001b[1;33m,\u001b[0m \u001b[0my\u001b[0m\u001b[1;33m)\u001b[0m\u001b[1;33m:\u001b[0m\u001b[1;33m\u001b[0m\u001b[1;33m\u001b[0m\u001b[0m\n\u001b[0;32m   1788\u001b[0m         \u001b[1;32mtry\u001b[0m\u001b[1;33m:\u001b[0m\u001b[1;33m\u001b[0m\u001b[1;33m\u001b[0m\u001b[0m\n\u001b[1;32m-> 1789\u001b[1;33m             \u001b[0mresult\u001b[0m \u001b[1;33m=\u001b[0m \u001b[0mop\u001b[0m\u001b[1;33m(\u001b[0m\u001b[0mx\u001b[0m\u001b[1;33m,\u001b[0m \u001b[0my\u001b[0m\u001b[1;33m)\u001b[0m\u001b[1;33m\u001b[0m\u001b[1;33m\u001b[0m\u001b[0m\n\u001b[0m\u001b[0;32m   1790\u001b[0m         \u001b[1;32mexcept\u001b[0m \u001b[0mTypeError\u001b[0m\u001b[1;33m:\u001b[0m\u001b[1;33m\u001b[0m\u001b[1;33m\u001b[0m\u001b[0m\n\u001b[0;32m   1791\u001b[0m             \u001b[1;32massert\u001b[0m \u001b[1;32mnot\u001b[0m \u001b[0misinstance\u001b[0m\u001b[1;33m(\u001b[0m\u001b[0my\u001b[0m\u001b[1;33m,\u001b[0m \u001b[1;33m(\u001b[0m\u001b[0mlist\u001b[0m\u001b[1;33m,\u001b[0m \u001b[0mABCSeries\u001b[0m\u001b[1;33m,\u001b[0m \u001b[0mABCIndexClass\u001b[0m\u001b[1;33m)\u001b[0m\u001b[1;33m)\u001b[0m\u001b[1;33m\u001b[0m\u001b[1;33m\u001b[0m\u001b[0m\n",
      "\u001b[1;31mKeyboardInterrupt\u001b[0m: "
     ]
    }
   ],
   "source": [
    "start = \"PORTO ALEGRE\"\n",
    "city_sequence = [start] # this lists the order which we fly to each city\n",
    "unvisited = set(cities - {start}) # this is the unique set of unvisited cities\n",
    "while unvisited:\n",
    "    # Check flight options available\n",
    "    # - if a flight to an unvisited city is available, then fly there\n",
    "    # - if flight to unvisited city is not available, then fly back to previous city or fly to sao paulo?\n",
    "    flight_options = (city_travel_times.loc[(city_travel_times['DepartureCity']==city_sequence[-1])\n",
    "                                            & (city_travel_times['ArrivalCity'].isin(unvisited))]) \n",
    "    \n",
    "    if not flight_options.empty:\n",
    "        next_city = flight_options.loc[flight_options['AveFlightTimeMin'].idxmin()]['ArrivalCity']\n",
    "        unvisited.remove(next_city)\n",
    "    else:\n",
    "        next_city = city_sequence[-2]\n",
    "    \n",
    "    city_sequence.append(next_city)\n",
    "\n",
    "# Note algorithm will run, but get stuck going back and forth 2 cities"
   ]
  },
  {
   "cell_type": "markdown",
   "metadata": {},
   "source": [
    "Below is the outputted sequence of cities from the above algorithm"
   ]
  },
  {
   "cell_type": "code",
   "execution_count": 292,
   "metadata": {},
   "outputs": [
    {
     "data": {
      "text/plain": [
       "['PORTO ALEGRE',\n",
       " 'PELOTAS',\n",
       " 'PORTO ALEGRE',\n",
       " 'FLORIANÓPOLIS',\n",
       " 'SÃO JOSÉ DOS PINHAIS',\n",
       " 'LONDRINA',\n",
       " 'SÃO PAULO',\n",
       " 'AREALVA',\n",
       " 'MARÍLIA',\n",
       " 'CAMPINAS',\n",
       " 'RIBEIRÃO PRETO',\n",
       " 'RIO DE JANEIRO',\n",
       " 'CAMPOS DOS GOYTACAZES',\n",
       " 'RIO DE JANEIRO',\n",
       " 'VITÓRIA',\n",
       " 'CONFINS',\n",
       " 'SANTANA DO PARAÍSO',\n",
       " 'CONFINS',\n",
       " 'GOVERNADOR VALADARES',\n",
       " 'CONFINS',\n",
       " 'VARGINHA',\n",
       " 'CONFINS',\n",
       " 'MONTES CLAROS',\n",
       " 'GUARULHOS',\n",
       " 'JOINVILLE',\n",
       " 'GUARULHOS',\n",
       " 'NAVEGANTES',\n",
       " 'GUARULHOS',\n",
       " 'UBERLÂNDIA',\n",
       " 'BELO HORIZONTE',\n",
       " 'UBERABA',\n",
       " 'ARAXÁ',\n",
       " 'UBERABA',\n",
       " 'ARAXÁ',\n",
       " 'UBERABA',\n",
       " 'ARAXÁ',\n",
       " 'UBERABA',\n",
       " 'ARAXÁ',\n",
       " 'UBERABA',\n",
       " 'ARAXÁ',\n",
       " 'UBERABA',\n",
       " 'ARAXÁ',\n",
       " 'UBERABA',\n",
       " 'ARAXÁ',\n",
       " 'UBERABA',\n",
       " 'ARAXÁ',\n",
       " 'UBERABA',\n",
       " 'ARAXÁ',\n",
       " 'UBERABA',\n",
       " 'ARAXÁ',\n",
       " 'UBERABA',\n",
       " 'ARAXÁ',\n",
       " 'UBERABA',\n",
       " 'ARAXÁ',\n",
       " 'UBERABA',\n",
       " 'ARAXÁ',\n",
       " 'UBERABA',\n",
       " 'ARAXÁ',\n",
       " 'UBERABA',\n",
       " 'ARAXÁ',\n",
       " 'UBERABA',\n",
       " 'ARAXÁ',\n",
       " 'UBERABA',\n",
       " 'ARAXÁ',\n",
       " 'UBERABA',\n",
       " 'ARAXÁ',\n",
       " 'UBERABA',\n",
       " 'ARAXÁ',\n",
       " 'UBERABA',\n",
       " 'ARAXÁ',\n",
       " 'UBERABA',\n",
       " 'ARAXÁ',\n",
       " 'UBERABA',\n",
       " 'ARAXÁ',\n",
       " 'UBERABA',\n",
       " 'ARAXÁ',\n",
       " 'UBERABA',\n",
       " 'ARAXÁ',\n",
       " 'UBERABA',\n",
       " 'ARAXÁ',\n",
       " 'UBERABA',\n",
       " 'ARAXÁ',\n",
       " 'UBERABA',\n",
       " 'ARAXÁ',\n",
       " 'UBERABA',\n",
       " 'ARAXÁ',\n",
       " 'UBERABA',\n",
       " 'ARAXÁ',\n",
       " 'UBERABA',\n",
       " 'ARAXÁ',\n",
       " 'UBERABA',\n",
       " 'ARAXÁ',\n",
       " 'UBERABA',\n",
       " 'ARAXÁ',\n",
       " 'UBERABA',\n",
       " 'ARAXÁ',\n",
       " 'UBERABA',\n",
       " 'ARAXÁ',\n",
       " 'UBERABA',\n",
       " 'ARAXÁ',\n",
       " 'UBERABA',\n",
       " 'ARAXÁ',\n",
       " 'UBERABA',\n",
       " 'ARAXÁ',\n",
       " 'UBERABA',\n",
       " 'ARAXÁ',\n",
       " 'UBERABA',\n",
       " 'ARAXÁ',\n",
       " 'UBERABA',\n",
       " 'ARAXÁ',\n",
       " 'UBERABA',\n",
       " 'ARAXÁ',\n",
       " 'UBERABA',\n",
       " 'ARAXÁ',\n",
       " 'UBERABA',\n",
       " 'ARAXÁ',\n",
       " 'UBERABA',\n",
       " 'ARAXÁ',\n",
       " 'UBERABA',\n",
       " 'ARAXÁ',\n",
       " 'UBERABA',\n",
       " 'ARAXÁ',\n",
       " 'UBERABA',\n",
       " 'ARAXÁ',\n",
       " 'UBERABA',\n",
       " 'ARAXÁ',\n",
       " 'UBERABA',\n",
       " 'ARAXÁ',\n",
       " 'UBERABA',\n",
       " 'ARAXÁ',\n",
       " 'UBERABA',\n",
       " 'ARAXÁ',\n",
       " 'UBERABA',\n",
       " 'ARAXÁ',\n",
       " 'UBERABA',\n",
       " 'ARAXÁ',\n",
       " 'UBERABA',\n",
       " 'ARAXÁ',\n",
       " 'UBERABA',\n",
       " 'ARAXÁ',\n",
       " 'UBERABA',\n",
       " 'ARAXÁ',\n",
       " 'UBERABA',\n",
       " 'ARAXÁ',\n",
       " 'UBERABA',\n",
       " 'ARAXÁ',\n",
       " 'UBERABA',\n",
       " 'ARAXÁ',\n",
       " 'UBERABA',\n",
       " 'ARAXÁ',\n",
       " 'UBERABA',\n",
       " 'ARAXÁ',\n",
       " 'UBERABA',\n",
       " 'ARAXÁ',\n",
       " 'UBERABA',\n",
       " 'ARAXÁ',\n",
       " 'UBERABA',\n",
       " 'ARAXÁ',\n",
       " 'UBERABA',\n",
       " 'ARAXÁ',\n",
       " 'UBERABA',\n",
       " 'ARAXÁ',\n",
       " 'UBERABA',\n",
       " 'ARAXÁ',\n",
       " 'UBERABA',\n",
       " 'ARAXÁ',\n",
       " 'UBERABA',\n",
       " 'ARAXÁ',\n",
       " 'UBERABA',\n",
       " 'ARAXÁ',\n",
       " 'UBERABA',\n",
       " 'ARAXÁ',\n",
       " 'UBERABA',\n",
       " 'ARAXÁ',\n",
       " 'UBERABA',\n",
       " 'ARAXÁ',\n",
       " 'UBERABA',\n",
       " 'ARAXÁ',\n",
       " 'UBERABA',\n",
       " 'ARAXÁ',\n",
       " 'UBERABA',\n",
       " 'ARAXÁ',\n",
       " 'UBERABA',\n",
       " 'ARAXÁ',\n",
       " 'UBERABA',\n",
       " 'ARAXÁ',\n",
       " 'UBERABA',\n",
       " 'ARAXÁ',\n",
       " 'UBERABA',\n",
       " 'ARAXÁ',\n",
       " 'UBERABA',\n",
       " 'ARAXÁ',\n",
       " 'UBERABA',\n",
       " 'ARAXÁ',\n",
       " 'UBERABA',\n",
       " 'ARAXÁ',\n",
       " 'UBERABA',\n",
       " 'ARAXÁ',\n",
       " 'UBERABA',\n",
       " 'ARAXÁ',\n",
       " 'UBERABA',\n",
       " 'ARAXÁ',\n",
       " 'UBERABA',\n",
       " 'ARAXÁ',\n",
       " 'UBERABA',\n",
       " 'ARAXÁ',\n",
       " 'UBERABA',\n",
       " 'ARAXÁ',\n",
       " 'UBERABA',\n",
       " 'ARAXÁ',\n",
       " 'UBERABA',\n",
       " 'ARAXÁ',\n",
       " 'UBERABA',\n",
       " 'ARAXÁ',\n",
       " 'UBERABA',\n",
       " 'ARAXÁ',\n",
       " 'UBERABA',\n",
       " 'ARAXÁ',\n",
       " 'UBERABA',\n",
       " 'ARAXÁ',\n",
       " 'UBERABA',\n",
       " 'ARAXÁ',\n",
       " 'UBERABA',\n",
       " 'ARAXÁ',\n",
       " 'UBERABA',\n",
       " 'ARAXÁ',\n",
       " 'UBERABA',\n",
       " 'ARAXÁ',\n",
       " 'UBERABA',\n",
       " 'ARAXÁ',\n",
       " 'UBERABA',\n",
       " 'ARAXÁ',\n",
       " 'UBERABA',\n",
       " 'ARAXÁ',\n",
       " 'UBERABA',\n",
       " 'ARAXÁ',\n",
       " 'UBERABA',\n",
       " 'ARAXÁ',\n",
       " 'UBERABA',\n",
       " 'ARAXÁ',\n",
       " 'UBERABA',\n",
       " 'ARAXÁ',\n",
       " 'UBERABA',\n",
       " 'ARAXÁ',\n",
       " 'UBERABA',\n",
       " 'ARAXÁ',\n",
       " 'UBERABA',\n",
       " 'ARAXÁ',\n",
       " 'UBERABA',\n",
       " 'ARAXÁ',\n",
       " 'UBERABA',\n",
       " 'ARAXÁ',\n",
       " 'UBERABA',\n",
       " 'ARAXÁ',\n",
       " 'UBERABA',\n",
       " 'ARAXÁ',\n",
       " 'UBERABA',\n",
       " 'ARAXÁ',\n",
       " 'UBERABA',\n",
       " 'ARAXÁ',\n",
       " 'UBERABA',\n",
       " 'ARAXÁ',\n",
       " 'UBERABA',\n",
       " 'ARAXÁ',\n",
       " 'UBERABA',\n",
       " 'ARAXÁ',\n",
       " 'UBERABA',\n",
       " 'ARAXÁ',\n",
       " 'UBERABA',\n",
       " 'ARAXÁ',\n",
       " 'UBERABA',\n",
       " 'ARAXÁ',\n",
       " 'UBERABA',\n",
       " 'ARAXÁ',\n",
       " 'UBERABA',\n",
       " 'ARAXÁ',\n",
       " 'UBERABA',\n",
       " 'ARAXÁ',\n",
       " 'UBERABA',\n",
       " 'ARAXÁ',\n",
       " 'UBERABA',\n",
       " 'ARAXÁ',\n",
       " 'UBERABA',\n",
       " 'ARAXÁ',\n",
       " 'UBERABA',\n",
       " 'ARAXÁ',\n",
       " 'UBERABA',\n",
       " 'ARAXÁ',\n",
       " 'UBERABA',\n",
       " 'ARAXÁ',\n",
       " 'UBERABA',\n",
       " 'ARAXÁ',\n",
       " 'UBERABA',\n",
       " 'ARAXÁ',\n",
       " 'UBERABA',\n",
       " 'ARAXÁ',\n",
       " 'UBERABA',\n",
       " 'ARAXÁ',\n",
       " 'UBERABA',\n",
       " 'ARAXÁ',\n",
       " 'UBERABA',\n",
       " 'ARAXÁ',\n",
       " 'UBERABA',\n",
       " 'ARAXÁ',\n",
       " 'UBERABA',\n",
       " 'ARAXÁ',\n",
       " 'UBERABA',\n",
       " 'ARAXÁ',\n",
       " 'UBERABA',\n",
       " 'ARAXÁ',\n",
       " 'UBERABA',\n",
       " 'ARAXÁ',\n",
       " 'UBERABA',\n",
       " 'ARAXÁ',\n",
       " 'UBERABA',\n",
       " 'ARAXÁ',\n",
       " 'UBERABA',\n",
       " 'ARAXÁ',\n",
       " 'UBERABA',\n",
       " 'ARAXÁ',\n",
       " 'UBERABA',\n",
       " 'ARAXÁ',\n",
       " 'UBERABA',\n",
       " 'ARAXÁ',\n",
       " 'UBERABA',\n",
       " 'ARAXÁ',\n",
       " 'UBERABA',\n",
       " 'ARAXÁ',\n",
       " 'UBERABA',\n",
       " 'ARAXÁ',\n",
       " 'UBERABA',\n",
       " 'ARAXÁ',\n",
       " 'UBERABA',\n",
       " 'ARAXÁ',\n",
       " 'UBERABA',\n",
       " 'ARAXÁ',\n",
       " 'UBERABA',\n",
       " 'ARAXÁ',\n",
       " 'UBERABA',\n",
       " 'ARAXÁ',\n",
       " 'UBERABA',\n",
       " 'ARAXÁ',\n",
       " 'UBERABA',\n",
       " 'ARAXÁ',\n",
       " 'UBERABA',\n",
       " 'ARAXÁ',\n",
       " 'UBERABA',\n",
       " 'ARAXÁ',\n",
       " 'UBERABA',\n",
       " 'ARAXÁ',\n",
       " 'UBERABA',\n",
       " 'ARAXÁ',\n",
       " 'UBERABA',\n",
       " 'ARAXÁ',\n",
       " 'UBERABA',\n",
       " 'ARAXÁ',\n",
       " 'UBERABA',\n",
       " 'ARAXÁ',\n",
       " 'UBERABA',\n",
       " 'ARAXÁ',\n",
       " 'UBERABA',\n",
       " 'ARAXÁ',\n",
       " 'UBERABA',\n",
       " 'ARAXÁ',\n",
       " 'UBERABA',\n",
       " 'ARAXÁ',\n",
       " 'UBERABA',\n",
       " 'ARAXÁ',\n",
       " 'UBERABA',\n",
       " 'ARAXÁ',\n",
       " 'UBERABA',\n",
       " 'ARAXÁ',\n",
       " 'UBERABA',\n",
       " 'ARAXÁ',\n",
       " 'UBERABA',\n",
       " 'ARAXÁ',\n",
       " 'UBERABA',\n",
       " 'ARAXÁ',\n",
       " 'UBERABA',\n",
       " 'ARAXÁ',\n",
       " 'UBERABA',\n",
       " 'ARAXÁ',\n",
       " 'UBERABA',\n",
       " 'ARAXÁ',\n",
       " 'UBERABA',\n",
       " 'ARAXÁ',\n",
       " 'UBERABA',\n",
       " 'ARAXÁ',\n",
       " 'UBERABA',\n",
       " 'ARAXÁ',\n",
       " 'UBERABA',\n",
       " 'ARAXÁ',\n",
       " 'UBERABA',\n",
       " 'ARAXÁ',\n",
       " 'UBERABA',\n",
       " 'ARAXÁ',\n",
       " 'UBERABA',\n",
       " 'ARAXÁ',\n",
       " 'UBERABA',\n",
       " 'ARAXÁ',\n",
       " 'UBERABA',\n",
       " 'ARAXÁ',\n",
       " 'UBERABA',\n",
       " 'ARAXÁ',\n",
       " 'UBERABA',\n",
       " 'ARAXÁ',\n",
       " 'UBERABA',\n",
       " 'ARAXÁ',\n",
       " 'UBERABA',\n",
       " 'ARAXÁ',\n",
       " 'UBERABA',\n",
       " 'ARAXÁ',\n",
       " 'UBERABA',\n",
       " 'ARAXÁ',\n",
       " 'UBERABA',\n",
       " 'ARAXÁ',\n",
       " 'UBERABA',\n",
       " 'ARAXÁ',\n",
       " 'UBERABA',\n",
       " 'ARAXÁ',\n",
       " 'UBERABA',\n",
       " 'ARAXÁ',\n",
       " 'UBERABA',\n",
       " 'ARAXÁ',\n",
       " 'UBERABA',\n",
       " 'ARAXÁ',\n",
       " 'UBERABA',\n",
       " 'ARAXÁ',\n",
       " 'UBERABA',\n",
       " 'ARAXÁ',\n",
       " 'UBERABA',\n",
       " 'ARAXÁ',\n",
       " 'UBERABA',\n",
       " 'ARAXÁ',\n",
       " 'UBERABA',\n",
       " 'ARAXÁ',\n",
       " 'UBERABA',\n",
       " 'ARAXÁ',\n",
       " 'UBERABA',\n",
       " 'ARAXÁ',\n",
       " 'UBERABA',\n",
       " 'ARAXÁ',\n",
       " 'UBERABA',\n",
       " 'ARAXÁ',\n",
       " 'UBERABA',\n",
       " 'ARAXÁ',\n",
       " 'UBERABA',\n",
       " 'ARAXÁ',\n",
       " 'UBERABA',\n",
       " 'ARAXÁ',\n",
       " 'UBERABA',\n",
       " 'ARAXÁ',\n",
       " 'UBERABA',\n",
       " 'ARAXÁ',\n",
       " 'UBERABA',\n",
       " 'ARAXÁ',\n",
       " 'UBERABA',\n",
       " 'ARAXÁ',\n",
       " 'UBERABA',\n",
       " 'ARAXÁ',\n",
       " 'UBERABA',\n",
       " 'ARAXÁ',\n",
       " 'UBERABA',\n",
       " 'ARAXÁ',\n",
       " 'UBERABA',\n",
       " 'ARAXÁ',\n",
       " 'UBERABA',\n",
       " 'ARAXÁ',\n",
       " 'UBERABA',\n",
       " 'ARAXÁ',\n",
       " 'UBERABA',\n",
       " 'ARAXÁ',\n",
       " 'UBERABA',\n",
       " 'ARAXÁ',\n",
       " 'UBERABA',\n",
       " 'ARAXÁ',\n",
       " 'UBERABA',\n",
       " 'ARAXÁ',\n",
       " 'UBERABA',\n",
       " 'ARAXÁ',\n",
       " 'UBERABA',\n",
       " 'ARAXÁ',\n",
       " 'UBERABA',\n",
       " 'ARAXÁ',\n",
       " 'UBERABA',\n",
       " 'ARAXÁ',\n",
       " 'UBERABA',\n",
       " 'ARAXÁ',\n",
       " 'UBERABA',\n",
       " 'ARAXÁ',\n",
       " 'UBERABA',\n",
       " 'ARAXÁ',\n",
       " 'UBERABA',\n",
       " 'ARAXÁ',\n",
       " 'UBERABA',\n",
       " 'ARAXÁ',\n",
       " 'UBERABA',\n",
       " 'ARAXÁ',\n",
       " 'UBERABA',\n",
       " 'ARAXÁ',\n",
       " 'UBERABA',\n",
       " 'ARAXÁ',\n",
       " 'UBERABA',\n",
       " 'ARAXÁ',\n",
       " 'UBERABA',\n",
       " 'ARAXÁ',\n",
       " 'UBERABA',\n",
       " 'ARAXÁ',\n",
       " 'UBERABA',\n",
       " 'ARAXÁ',\n",
       " 'UBERABA',\n",
       " 'ARAXÁ',\n",
       " 'UBERABA',\n",
       " 'ARAXÁ',\n",
       " 'UBERABA',\n",
       " 'ARAXÁ',\n",
       " 'UBERABA',\n",
       " 'ARAXÁ',\n",
       " 'UBERABA',\n",
       " 'ARAXÁ',\n",
       " 'UBERABA',\n",
       " 'ARAXÁ',\n",
       " 'UBERABA',\n",
       " 'ARAXÁ',\n",
       " 'UBERABA',\n",
       " 'ARAXÁ',\n",
       " 'UBERABA',\n",
       " 'ARAXÁ',\n",
       " 'UBERABA',\n",
       " 'ARAXÁ',\n",
       " 'UBERABA',\n",
       " 'ARAXÁ',\n",
       " 'UBERABA',\n",
       " 'ARAXÁ',\n",
       " 'UBERABA',\n",
       " 'ARAXÁ',\n",
       " 'UBERABA',\n",
       " 'ARAXÁ',\n",
       " 'UBERABA',\n",
       " 'ARAXÁ',\n",
       " 'UBERABA',\n",
       " 'ARAXÁ',\n",
       " 'UBERABA',\n",
       " 'ARAXÁ',\n",
       " 'UBERABA',\n",
       " 'ARAXÁ',\n",
       " 'UBERABA',\n",
       " 'ARAXÁ',\n",
       " 'UBERABA',\n",
       " 'ARAXÁ',\n",
       " 'UBERABA',\n",
       " 'ARAXÁ',\n",
       " 'UBERABA',\n",
       " 'ARAXÁ',\n",
       " 'UBERABA',\n",
       " 'ARAXÁ',\n",
       " 'UBERABA',\n",
       " 'ARAXÁ',\n",
       " 'UBERABA',\n",
       " 'ARAXÁ',\n",
       " 'UBERABA',\n",
       " 'ARAXÁ',\n",
       " 'UBERABA',\n",
       " 'ARAXÁ',\n",
       " 'UBERABA',\n",
       " 'ARAXÁ',\n",
       " 'UBERABA',\n",
       " 'ARAXÁ',\n",
       " 'UBERABA',\n",
       " 'ARAXÁ',\n",
       " 'UBERABA',\n",
       " 'ARAXÁ',\n",
       " 'UBERABA',\n",
       " 'ARAXÁ',\n",
       " 'UBERABA',\n",
       " 'ARAXÁ',\n",
       " 'UBERABA',\n",
       " 'ARAXÁ',\n",
       " 'UBERABA',\n",
       " 'ARAXÁ',\n",
       " 'UBERABA',\n",
       " 'ARAXÁ',\n",
       " 'UBERABA',\n",
       " 'ARAXÁ',\n",
       " 'UBERABA',\n",
       " 'ARAXÁ',\n",
       " 'UBERABA',\n",
       " 'ARAXÁ',\n",
       " 'UBERABA',\n",
       " 'ARAXÁ',\n",
       " 'UBERABA',\n",
       " 'ARAXÁ',\n",
       " 'UBERABA',\n",
       " 'ARAXÁ',\n",
       " 'UBERABA',\n",
       " 'ARAXÁ',\n",
       " 'UBERABA',\n",
       " 'ARAXÁ',\n",
       " 'UBERABA',\n",
       " 'ARAXÁ',\n",
       " 'UBERABA',\n",
       " 'ARAXÁ',\n",
       " 'UBERABA',\n",
       " 'ARAXÁ',\n",
       " 'UBERABA',\n",
       " 'ARAXÁ',\n",
       " 'UBERABA',\n",
       " 'ARAXÁ',\n",
       " 'UBERABA',\n",
       " 'ARAXÁ',\n",
       " 'UBERABA',\n",
       " 'ARAXÁ',\n",
       " 'UBERABA',\n",
       " 'ARAXÁ',\n",
       " 'UBERABA',\n",
       " 'ARAXÁ',\n",
       " 'UBERABA',\n",
       " 'ARAXÁ',\n",
       " 'UBERABA',\n",
       " 'ARAXÁ',\n",
       " 'UBERABA',\n",
       " 'ARAXÁ',\n",
       " 'UBERABA',\n",
       " 'ARAXÁ',\n",
       " 'UBERABA',\n",
       " 'ARAXÁ',\n",
       " 'UBERABA',\n",
       " 'ARAXÁ',\n",
       " 'UBERABA',\n",
       " 'ARAXÁ',\n",
       " 'UBERABA',\n",
       " 'ARAXÁ',\n",
       " 'UBERABA',\n",
       " 'ARAXÁ',\n",
       " 'UBERABA',\n",
       " 'ARAXÁ',\n",
       " 'UBERABA',\n",
       " 'ARAXÁ',\n",
       " 'UBERABA',\n",
       " 'ARAXÁ',\n",
       " 'UBERABA',\n",
       " 'ARAXÁ',\n",
       " 'UBERABA',\n",
       " 'ARAXÁ',\n",
       " 'UBERABA',\n",
       " 'ARAXÁ',\n",
       " 'UBERABA',\n",
       " 'ARAXÁ',\n",
       " 'UBERABA',\n",
       " 'ARAXÁ',\n",
       " 'UBERABA',\n",
       " 'ARAXÁ',\n",
       " 'UBERABA',\n",
       " 'ARAXÁ',\n",
       " 'UBERABA',\n",
       " 'ARAXÁ',\n",
       " 'UBERABA',\n",
       " 'ARAXÁ',\n",
       " 'UBERABA',\n",
       " 'ARAXÁ',\n",
       " 'UBERABA',\n",
       " 'ARAXÁ',\n",
       " 'UBERABA',\n",
       " 'ARAXÁ',\n",
       " 'UBERABA',\n",
       " 'ARAXÁ',\n",
       " 'UBERABA',\n",
       " 'ARAXÁ',\n",
       " 'UBERABA',\n",
       " 'ARAXÁ',\n",
       " 'UBERABA',\n",
       " 'ARAXÁ',\n",
       " 'UBERABA',\n",
       " 'ARAXÁ',\n",
       " 'UBERABA',\n",
       " 'ARAXÁ',\n",
       " 'UBERABA',\n",
       " 'ARAXÁ',\n",
       " 'UBERABA',\n",
       " 'ARAXÁ',\n",
       " 'UBERABA',\n",
       " 'ARAXÁ',\n",
       " 'UBERABA',\n",
       " 'ARAXÁ',\n",
       " 'UBERABA',\n",
       " 'ARAXÁ',\n",
       " 'UBERABA',\n",
       " 'ARAXÁ',\n",
       " 'UBERABA',\n",
       " 'ARAXÁ',\n",
       " 'UBERABA',\n",
       " 'ARAXÁ',\n",
       " 'UBERABA',\n",
       " 'ARAXÁ',\n",
       " 'UBERABA',\n",
       " 'ARAXÁ',\n",
       " 'UBERABA',\n",
       " 'ARAXÁ',\n",
       " 'UBERABA',\n",
       " 'ARAXÁ',\n",
       " 'UBERABA',\n",
       " 'ARAXÁ',\n",
       " 'UBERABA',\n",
       " 'ARAXÁ',\n",
       " 'UBERABA',\n",
       " 'ARAXÁ',\n",
       " 'UBERABA',\n",
       " 'ARAXÁ',\n",
       " 'UBERABA',\n",
       " 'ARAXÁ',\n",
       " 'UBERABA',\n",
       " 'ARAXÁ',\n",
       " 'UBERABA',\n",
       " 'ARAXÁ',\n",
       " 'UBERABA',\n",
       " 'ARAXÁ',\n",
       " 'UBERABA',\n",
       " 'ARAXÁ',\n",
       " 'UBERABA',\n",
       " 'ARAXÁ',\n",
       " 'UBERABA',\n",
       " 'ARAXÁ',\n",
       " 'UBERABA',\n",
       " 'ARAXÁ',\n",
       " 'UBERABA',\n",
       " 'ARAXÁ',\n",
       " 'UBERABA',\n",
       " 'ARAXÁ',\n",
       " 'UBERABA',\n",
       " 'ARAXÁ',\n",
       " 'UBERABA',\n",
       " 'ARAXÁ',\n",
       " 'UBERABA',\n",
       " 'ARAXÁ',\n",
       " 'UBERABA',\n",
       " 'ARAXÁ',\n",
       " 'UBERABA',\n",
       " 'ARAXÁ',\n",
       " 'UBERABA',\n",
       " 'ARAXÁ',\n",
       " 'UBERABA',\n",
       " 'ARAXÁ',\n",
       " 'UBERABA',\n",
       " 'ARAXÁ',\n",
       " 'UBERABA',\n",
       " 'ARAXÁ',\n",
       " 'UBERABA',\n",
       " 'ARAXÁ',\n",
       " 'UBERABA',\n",
       " 'ARAXÁ',\n",
       " 'UBERABA',\n",
       " 'ARAXÁ',\n",
       " 'UBERABA',\n",
       " 'ARAXÁ',\n",
       " 'UBERABA',\n",
       " 'ARAXÁ',\n",
       " 'UBERABA',\n",
       " 'ARAXÁ',\n",
       " 'UBERABA',\n",
       " 'ARAXÁ',\n",
       " 'UBERABA',\n",
       " 'ARAXÁ',\n",
       " 'UBERABA',\n",
       " 'ARAXÁ',\n",
       " 'UBERABA',\n",
       " 'ARAXÁ',\n",
       " 'UBERABA',\n",
       " 'ARAXÁ',\n",
       " 'UBERABA',\n",
       " 'ARAXÁ',\n",
       " 'UBERABA',\n",
       " 'ARAXÁ',\n",
       " 'UBERABA',\n",
       " 'ARAXÁ',\n",
       " 'UBERABA',\n",
       " 'ARAXÁ',\n",
       " 'UBERABA',\n",
       " 'ARAXÁ',\n",
       " 'UBERABA',\n",
       " 'ARAXÁ',\n",
       " 'UBERABA',\n",
       " 'ARAXÁ',\n",
       " 'UBERABA',\n",
       " 'ARAXÁ',\n",
       " 'UBERABA',\n",
       " 'ARAXÁ',\n",
       " 'UBERABA',\n",
       " 'ARAXÁ',\n",
       " 'UBERABA',\n",
       " 'ARAXÁ',\n",
       " 'UBERABA',\n",
       " 'ARAXÁ',\n",
       " 'UBERABA',\n",
       " 'ARAXÁ',\n",
       " 'UBERABA',\n",
       " 'ARAXÁ',\n",
       " 'UBERABA',\n",
       " 'ARAXÁ',\n",
       " 'UBERABA',\n",
       " 'ARAXÁ',\n",
       " 'UBERABA',\n",
       " 'ARAXÁ',\n",
       " 'UBERABA',\n",
       " 'ARAXÁ',\n",
       " 'UBERABA',\n",
       " 'ARAXÁ',\n",
       " 'UBERABA',\n",
       " 'ARAXÁ',\n",
       " 'UBERABA',\n",
       " 'ARAXÁ',\n",
       " 'UBERABA',\n",
       " 'ARAXÁ',\n",
       " 'UBERABA',\n",
       " 'ARAXÁ',\n",
       " 'UBERABA',\n",
       " 'ARAXÁ',\n",
       " 'UBERABA',\n",
       " 'ARAXÁ',\n",
       " 'UBERABA',\n",
       " 'ARAXÁ',\n",
       " 'UBERABA',\n",
       " 'ARAXÁ',\n",
       " 'UBERABA',\n",
       " 'ARAXÁ',\n",
       " 'UBERABA',\n",
       " 'ARAXÁ',\n",
       " 'UBERABA',\n",
       " 'ARAXÁ',\n",
       " 'UBERABA',\n",
       " 'ARAXÁ',\n",
       " 'UBERABA',\n",
       " 'ARAXÁ',\n",
       " 'UBERABA',\n",
       " 'ARAXÁ',\n",
       " 'UBERABA',\n",
       " 'ARAXÁ',\n",
       " 'UBERABA',\n",
       " 'ARAXÁ',\n",
       " 'UBERABA',\n",
       " 'ARAXÁ',\n",
       " 'UBERABA',\n",
       " 'ARAXÁ',\n",
       " 'UBERABA',\n",
       " 'ARAXÁ',\n",
       " 'UBERABA',\n",
       " 'ARAXÁ',\n",
       " 'UBERABA',\n",
       " 'ARAXÁ',\n",
       " 'UBERABA',\n",
       " 'ARAXÁ',\n",
       " 'UBERABA',\n",
       " 'ARAXÁ',\n",
       " 'UBERABA',\n",
       " 'ARAXÁ',\n",
       " 'UBERABA',\n",
       " 'ARAXÁ',\n",
       " 'UBERABA',\n",
       " 'ARAXÁ',\n",
       " 'UBERABA',\n",
       " 'ARAXÁ',\n",
       " 'UBERABA',\n",
       " 'ARAXÁ',\n",
       " 'UBERABA',\n",
       " 'ARAXÁ',\n",
       " 'UBERABA',\n",
       " 'ARAXÁ',\n",
       " 'UBERABA',\n",
       " 'ARAXÁ',\n",
       " 'UBERABA',\n",
       " 'ARAXÁ',\n",
       " 'UBERABA',\n",
       " 'ARAXÁ',\n",
       " 'UBERABA',\n",
       " 'ARAXÁ',\n",
       " 'UBERABA',\n",
       " 'ARAXÁ',\n",
       " 'UBERABA',\n",
       " 'ARAXÁ',\n",
       " 'UBERABA',\n",
       " 'ARAXÁ',\n",
       " 'UBERABA',\n",
       " 'ARAXÁ',\n",
       " 'UBERABA',\n",
       " 'ARAXÁ',\n",
       " 'UBERABA',\n",
       " 'ARAXÁ',\n",
       " 'UBERABA',\n",
       " 'ARAXÁ',\n",
       " 'UBERABA',\n",
       " 'ARAXÁ',\n",
       " 'UBERABA',\n",
       " 'ARAXÁ',\n",
       " 'UBERABA',\n",
       " 'ARAXÁ',\n",
       " 'UBERABA',\n",
       " 'ARAXÁ',\n",
       " 'UBERABA',\n",
       " 'ARAXÁ',\n",
       " 'UBERABA',\n",
       " 'ARAXÁ',\n",
       " 'UBERABA',\n",
       " 'ARAXÁ',\n",
       " 'UBERABA',\n",
       " 'ARAXÁ',\n",
       " 'UBERABA',\n",
       " 'ARAXÁ',\n",
       " 'UBERABA',\n",
       " 'ARAXÁ',\n",
       " 'UBERABA',\n",
       " 'ARAXÁ',\n",
       " 'UBERABA',\n",
       " 'ARAXÁ',\n",
       " 'UBERABA',\n",
       " 'ARAXÁ',\n",
       " 'UBERABA',\n",
       " 'ARAXÁ',\n",
       " 'UBERABA',\n",
       " 'ARAXÁ',\n",
       " 'UBERABA',\n",
       " 'ARAXÁ',\n",
       " 'UBERABA',\n",
       " 'ARAXÁ',\n",
       " 'UBERABA',\n",
       " 'ARAXÁ',\n",
       " 'UBERABA',\n",
       " 'ARAXÁ',\n",
       " 'UBERABA',\n",
       " 'ARAXÁ',\n",
       " 'UBERABA',\n",
       " 'ARAXÁ',\n",
       " 'UBERABA',\n",
       " 'ARAXÁ',\n",
       " 'UBERABA',\n",
       " 'ARAXÁ',\n",
       " 'UBERABA',\n",
       " 'ARAXÁ',\n",
       " 'UBERABA',\n",
       " 'ARAXÁ',\n",
       " 'UBERABA',\n",
       " 'ARAXÁ',\n",
       " 'UBERABA',\n",
       " 'ARAXÁ',\n",
       " 'UBERABA',\n",
       " 'ARAXÁ',\n",
       " 'UBERABA',\n",
       " 'ARAXÁ',\n",
       " 'UBERABA',\n",
       " 'ARAXÁ',\n",
       " 'UBERABA',\n",
       " 'ARAXÁ',\n",
       " 'UBERABA',\n",
       " 'ARAXÁ',\n",
       " 'UBERABA',\n",
       " 'ARAXÁ',\n",
       " 'UBERABA',\n",
       " 'ARAXÁ',\n",
       " 'UBERABA',\n",
       " 'ARAXÁ',\n",
       " 'UBERABA',\n",
       " 'ARAXÁ',\n",
       " 'UBERABA',\n",
       " 'ARAXÁ',\n",
       " 'UBERABA',\n",
       " 'ARAXÁ',\n",
       " 'UBERABA',\n",
       " 'ARAXÁ',\n",
       " 'UBERABA',\n",
       " 'ARAXÁ',\n",
       " 'UBERABA',\n",
       " 'ARAXÁ',\n",
       " 'UBERABA',\n",
       " 'ARAXÁ',\n",
       " 'UBERABA',\n",
       " 'ARAXÁ',\n",
       " 'UBERABA',\n",
       " 'ARAXÁ',\n",
       " 'UBERABA',\n",
       " 'ARAXÁ',\n",
       " 'UBERABA',\n",
       " 'ARAXÁ',\n",
       " 'UBERABA',\n",
       " 'ARAXÁ',\n",
       " 'UBERABA',\n",
       " 'ARAXÁ',\n",
       " 'UBERABA',\n",
       " 'ARAXÁ',\n",
       " 'UBERABA',\n",
       " 'ARAXÁ',\n",
       " 'UBERABA',\n",
       " 'ARAXÁ',\n",
       " 'UBERABA',\n",
       " 'ARAXÁ',\n",
       " 'UBERABA',\n",
       " 'ARAXÁ',\n",
       " 'UBERABA',\n",
       " 'ARAXÁ',\n",
       " 'UBERABA',\n",
       " 'ARAXÁ',\n",
       " 'UBERABA',\n",
       " 'ARAXÁ',\n",
       " ...]"
      ]
     },
     "execution_count": 292,
     "metadata": {},
     "output_type": "execute_result"
    }
   ],
   "source": [
    "city_sequence"
   ]
  },
  {
   "cell_type": "code",
   "execution_count": null,
   "metadata": {},
   "outputs": [],
   "source": []
  }
 ],
 "metadata": {
  "kernelspec": {
   "display_name": "Python 3",
   "language": "python",
   "name": "python3"
  },
  "language_info": {
   "codemirror_mode": {
    "name": "ipython",
    "version": 3
   },
   "file_extension": ".py",
   "mimetype": "text/x-python",
   "name": "python",
   "nbconvert_exporter": "python",
   "pygments_lexer": "ipython3",
   "version": "3.7.3"
  }
 },
 "nbformat": 4,
 "nbformat_minor": 2
}
